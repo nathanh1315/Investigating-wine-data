{
 "cells": [
  {
   "cell_type": "markdown",
   "metadata": {
    "id": "GNIwe5N7s0e_"
   },
   "source": [
    "# Investigating Wine Data"
   ]
  },
  {
   "cell_type": "markdown",
   "metadata": {
    "id": "lDYDkH-Zs7Nn"
   },
   "source": [
    "## 1. Gather data"
   ]
  },
  {
   "cell_type": "markdown",
   "metadata": {
    "id": "LbN7z7rcuqpO"
   },
   "source": [
    "### **1.1.** Problem Statement\n",
    "I would like to look at wine data to see what parameters go into wines with high ratings. I would like to first see where in the world has the highest rated wines. I want to see if there is a best place for wine. I also would like to see if higher prices result in higher ratings. If so, I want to know when I start to see diminishing returns on my money. I will be wrangling different datasets that have data on the wines, where they are from, ratings, price, etc. to answer these questions. One dataset comes from WineEnthusiest wine reviews, one comes from data that someone scraped from Vivino, and the other comes from an api available online."
   ]
  },
  {
   "cell_type": "markdown",
   "metadata": {
    "id": "7e6gS0wL1KTu"
   },
   "source": [
    "#### **Dataset 1**\n",
    "\n",
    "Type: csv file\n",
    "\n",
    "Method: The data was gathered by downloading the csv files from the following website:\n",
    "https://www.kaggle.com/datasets/mysarahmadbhat/wine-tasting?select=winemag-data-130k-v2.csv\n",
    "\n",
    "https://www.kaggle.com/datasets/budnyak/wine-rating-and-price\n",
    "\n",
    "red_winedf and white_wine_df Dataset variables:\n",
    "\n",
    "* **Name**: Name of the wine\n",
    "* **country**:  Country where the wine is from\n",
    "* **Region**: Region where the wine is from\n",
    "* **Winery**: Winery where the wine was made\n",
    "* **Rating**: Average rating of the wine\n",
    "* **NumberOfRatings**: Number of ratings the wine got\n",
    "* **Price**: Price of the wine\n",
    "* **Year**: Year the wine was made\n",
    "\n",
    "big_wine_df Dataset variables:\n",
    "\n",
    "* **id**: identification number to keep track of wines\n",
    "* **country**: Country where the wine is from\n",
    "* **description**: Description of the wine\n",
    "* **designation**: What kind of wine it is\n",
    "* **points**: Rating of the wine out of 100\n",
    "* **price**: Price of the wine\n",
    "* **province**: Province where the wine is from\n",
    "* **region_1**: First region where the wine is from\n",
    "* **region_2**: Second region where the wine is from\n",
    "* **taster_name**: Name of the person who tasted and rated the wine\n",
    "* **taster_twitter_handle**: Twitter handle of the person who tasted and rated the wine\n",
    "* **title**: Name of the wine\n",
    "* **variety**: Variety of the wine\n",
    "* **winery**: What winery the wine was made at"
   ]
  },
  {
   "cell_type": "code",
   "execution_count": 1,
   "metadata": {},
   "outputs": [],
   "source": [
    "#Imports\n",
    "import pandas as pd\n",
    "import numpy as np\n",
    "import requests \n",
    "import json\n",
    "from bs4 import BeautifulSoup"
   ]
  },
  {
   "cell_type": "code",
   "execution_count": 3,
   "metadata": {
    "id": "Su8E0uLuYkHU"
   },
   "outputs": [],
   "source": [
    "#Download data manually about red wine and white wine\n",
    "red_wine_df = pd.read_csv('Red.csv')\n",
    "white_wine_df = pd.read_csv('White.csv')\n",
    "big_wine_df = pd.read_csv('winemag-data-130k-v2.csv')"
   ]
  },
  {
   "cell_type": "markdown",
   "metadata": {
    "id": "hoUjq1tPzz7P"
   },
   "source": [
    "#### Dataset 2\n",
    "\n",
    "Type: API\n",
    "\n",
    "Method: The data was gathered using the API method from the folowing website: https://sampleapis.com/api-list/wines\n",
    "\n",
    "red_wine_api and white_wine_api Dataset variables:\n",
    "\n",
    "* **winery**: The winery the wine was made at\n",
    "* **wine**: Name of the wine\n",
    "* **rating**: Rating of the wine, includes average rating and number of ratings\n",
    "* **location**: Location of where the wine was made, includes country and region\n",
    "* **image**: Link to an image of the wine\n",
    "* **id**: Identification number to keep track of the wines"
   ]
  },
  {
   "cell_type": "code",
   "execution_count": 5,
   "metadata": {
    "id": "6zT0QxRyYmm7"
   },
   "outputs": [],
   "source": [
    "\n",
    "#FILL IN 2nd data gathering and loading method\n",
    "\n",
    "#urls\n",
    "url_red = 'https://api.sampleapis.com/wines/reds'\n",
    "url_white = 'https://api.sampleapis.com/wines/whites'\n",
    "\n",
    "#send a request to get the data from the url\n",
    "red_wine_api = requests.get(url_red)\n",
    "white_wine_api = requests.get(url_white)\n",
    "\n",
    "#If request fails, raise an error\n",
    "red_wine_api.raise_for_status()\n",
    "white_wine_api.raise_for_status()\n",
    "\n",
    "#Convert to json format\n",
    "red_wine_api_text = red_wine_api.json()\n",
    "white_wine_api_text = white_wine_api.json()\n",
    "\n",
    "#Convert to pandas dataframe\n",
    "red_wine_api_df = pd.DataFrame(red_wine_api_text)\n",
    "white_wine_api_df = pd.DataFrame(white_wine_api_text)"
   ]
  },
  {
   "cell_type": "markdown",
   "metadata": {},
   "source": [
    "Save your raw dataset files to the local data store before moving to the next step."
   ]
  },
  {
   "cell_type": "code",
   "execution_count": 6,
   "metadata": {},
   "outputs": [],
   "source": [
    "# Store the raw data in your local data store\n",
    "red_wine_raw = red_wine_df.copy()\n",
    "white_wine_raw = white_wine_df.copy()\n",
    "big_wine_raw = big_wine_df.copy()\n",
    "red_wine_api_raw = red_wine_api_df.copy()\n",
    "white_wine_api_raw = white_wine_api_df.copy()"
   ]
  },
  {
   "cell_type": "markdown",
   "metadata": {
    "id": "QwSWIVmotLgV"
   },
   "source": [
    "## 2. Assess data"
   ]
  },
  {
   "cell_type": "code",
   "execution_count": 7,
   "metadata": {},
   "outputs": [],
   "source": [
    "# Take a look at all the dataframes"
   ]
  },
  {
   "cell_type": "code",
   "execution_count": 7,
   "metadata": {},
   "outputs": [
    {
     "data": {
      "text/html": [
       "<div>\n",
       "<style scoped>\n",
       "    .dataframe tbody tr th:only-of-type {\n",
       "        vertical-align: middle;\n",
       "    }\n",
       "\n",
       "    .dataframe tbody tr th {\n",
       "        vertical-align: top;\n",
       "    }\n",
       "\n",
       "    .dataframe thead th {\n",
       "        text-align: right;\n",
       "    }\n",
       "</style>\n",
       "<table border=\"1\" class=\"dataframe\">\n",
       "  <thead>\n",
       "    <tr style=\"text-align: right;\">\n",
       "      <th></th>\n",
       "      <th>Name</th>\n",
       "      <th>Country</th>\n",
       "      <th>Region</th>\n",
       "      <th>Winery</th>\n",
       "      <th>Rating</th>\n",
       "      <th>NumberOfRatings</th>\n",
       "      <th>Price</th>\n",
       "      <th>Year</th>\n",
       "    </tr>\n",
       "  </thead>\n",
       "  <tbody>\n",
       "    <tr>\n",
       "      <th>5603</th>\n",
       "      <td>Tìros Limited Edition 2015</td>\n",
       "      <td>Italy</td>\n",
       "      <td>Colli del Limbara</td>\n",
       "      <td>Siddura</td>\n",
       "      <td>4.2</td>\n",
       "      <td>46</td>\n",
       "      <td>34.90</td>\n",
       "      <td>2015</td>\n",
       "    </tr>\n",
       "    <tr>\n",
       "      <th>4493</th>\n",
       "      <td>Lalande-de-Pomerol 2014</td>\n",
       "      <td>France</td>\n",
       "      <td>Lalande-de-Pomerol</td>\n",
       "      <td>Château Les Vieux Ormes</td>\n",
       "      <td>3.8</td>\n",
       "      <td>355</td>\n",
       "      <td>20.90</td>\n",
       "      <td>2014</td>\n",
       "    </tr>\n",
       "    <tr>\n",
       "      <th>514</th>\n",
       "      <td>Negroamaro Salento Maru 2018</td>\n",
       "      <td>Italy</td>\n",
       "      <td>Salento</td>\n",
       "      <td>Castello Monaci</td>\n",
       "      <td>3.5</td>\n",
       "      <td>115</td>\n",
       "      <td>7.40</td>\n",
       "      <td>2018</td>\n",
       "    </tr>\n",
       "    <tr>\n",
       "      <th>1411</th>\n",
       "      <td>Ars In Vitro 2012</td>\n",
       "      <td>Spain</td>\n",
       "      <td>Navarra</td>\n",
       "      <td>Bodega Tandem</td>\n",
       "      <td>3.5</td>\n",
       "      <td>152</td>\n",
       "      <td>8.49</td>\n",
       "      <td>2012</td>\n",
       "    </tr>\n",
       "    <tr>\n",
       "      <th>1093</th>\n",
       "      <td>Melck's Blended Red 2015</td>\n",
       "      <td>South Africa</td>\n",
       "      <td>Stellenbosch</td>\n",
       "      <td>Muratie</td>\n",
       "      <td>3.7</td>\n",
       "      <td>138</td>\n",
       "      <td>9.05</td>\n",
       "      <td>2015</td>\n",
       "    </tr>\n",
       "  </tbody>\n",
       "</table>\n",
       "</div>"
      ],
      "text/plain": [
       "                              Name       Country              Region  \\\n",
       "5603    Tìros Limited Edition 2015         Italy   Colli del Limbara   \n",
       "4493       Lalande-de-Pomerol 2014        France  Lalande-de-Pomerol   \n",
       "514   Negroamaro Salento Maru 2018         Italy             Salento   \n",
       "1411             Ars In Vitro 2012         Spain             Navarra   \n",
       "1093      Melck's Blended Red 2015  South Africa        Stellenbosch   \n",
       "\n",
       "                       Winery  Rating  NumberOfRatings  Price  Year  \n",
       "5603                  Siddura     4.2               46  34.90  2015  \n",
       "4493  Château Les Vieux Ormes     3.8              355  20.90  2014  \n",
       "514           Castello Monaci     3.5              115   7.40  2018  \n",
       "1411            Bodega Tandem     3.5              152   8.49  2012  \n",
       "1093                  Muratie     3.7              138   9.05  2015  "
      ]
     },
     "execution_count": 7,
     "metadata": {},
     "output_type": "execute_result"
    }
   ],
   "source": [
    "red_wine_df.sample(5)"
   ]
  },
  {
   "cell_type": "code",
   "execution_count": 8,
   "metadata": {},
   "outputs": [
    {
     "data": {
      "text/html": [
       "<div>\n",
       "<style scoped>\n",
       "    .dataframe tbody tr th:only-of-type {\n",
       "        vertical-align: middle;\n",
       "    }\n",
       "\n",
       "    .dataframe tbody tr th {\n",
       "        vertical-align: top;\n",
       "    }\n",
       "\n",
       "    .dataframe thead th {\n",
       "        text-align: right;\n",
       "    }\n",
       "</style>\n",
       "<table border=\"1\" class=\"dataframe\">\n",
       "  <thead>\n",
       "    <tr style=\"text-align: right;\">\n",
       "      <th></th>\n",
       "      <th>Name</th>\n",
       "      <th>Country</th>\n",
       "      <th>Region</th>\n",
       "      <th>Winery</th>\n",
       "      <th>Rating</th>\n",
       "      <th>NumberOfRatings</th>\n",
       "      <th>Price</th>\n",
       "      <th>Year</th>\n",
       "    </tr>\n",
       "  </thead>\n",
       "  <tbody>\n",
       "    <tr>\n",
       "      <th>3535</th>\n",
       "      <td>Côtes du Rhône Réserve Blanc 2016</td>\n",
       "      <td>France</td>\n",
       "      <td>Côtes-du-Rhône</td>\n",
       "      <td>Les Dauphins</td>\n",
       "      <td>3.5</td>\n",
       "      <td>531</td>\n",
       "      <td>6.85</td>\n",
       "      <td>2016</td>\n",
       "    </tr>\n",
       "    <tr>\n",
       "      <th>2826</th>\n",
       "      <td>Sauvignon Blanc (Statue de Femme) 2018</td>\n",
       "      <td>South Africa</td>\n",
       "      <td>Franschhoek</td>\n",
       "      <td>Franschhoek Cellar</td>\n",
       "      <td>3.7</td>\n",
       "      <td>175</td>\n",
       "      <td>6.95</td>\n",
       "      <td>2018</td>\n",
       "    </tr>\n",
       "    <tr>\n",
       "      <th>2390</th>\n",
       "      <td>Sauvignon 2019</td>\n",
       "      <td>Italy</td>\n",
       "      <td>Südtirol - Alto Adige</td>\n",
       "      <td>Cantina Bolzano / Kellerei Bozen</td>\n",
       "      <td>3.8</td>\n",
       "      <td>117</td>\n",
       "      <td>9.90</td>\n",
       "      <td>2019</td>\n",
       "    </tr>\n",
       "    <tr>\n",
       "      <th>2892</th>\n",
       "      <td>Chardonnay 2016</td>\n",
       "      <td>United States</td>\n",
       "      <td>Columbia Valley</td>\n",
       "      <td>Columbia Winery</td>\n",
       "      <td>3.6</td>\n",
       "      <td>189</td>\n",
       "      <td>14.62</td>\n",
       "      <td>2016</td>\n",
       "    </tr>\n",
       "    <tr>\n",
       "      <th>1374</th>\n",
       "      <td>Geheimrat J Riesling Spätlese Trocken 2011</td>\n",
       "      <td>Germany</td>\n",
       "      <td>Rheingau</td>\n",
       "      <td>Weingüter Wegeler</td>\n",
       "      <td>4.2</td>\n",
       "      <td>56</td>\n",
       "      <td>24.90</td>\n",
       "      <td>2011</td>\n",
       "    </tr>\n",
       "  </tbody>\n",
       "</table>\n",
       "</div>"
      ],
      "text/plain": [
       "                                            Name        Country  \\\n",
       "3535           Côtes du Rhône Réserve Blanc 2016         France   \n",
       "2826      Sauvignon Blanc (Statue de Femme) 2018   South Africa   \n",
       "2390                              Sauvignon 2019          Italy   \n",
       "2892                             Chardonnay 2016  United States   \n",
       "1374  Geheimrat J Riesling Spätlese Trocken 2011        Germany   \n",
       "\n",
       "                     Region                            Winery  Rating  \\\n",
       "3535         Côtes-du-Rhône                      Les Dauphins     3.5   \n",
       "2826            Franschhoek                Franschhoek Cellar     3.7   \n",
       "2390  Südtirol - Alto Adige  Cantina Bolzano / Kellerei Bozen     3.8   \n",
       "2892        Columbia Valley                   Columbia Winery     3.6   \n",
       "1374               Rheingau                 Weingüter Wegeler     4.2   \n",
       "\n",
       "      NumberOfRatings  Price  Year  \n",
       "3535              531   6.85  2016  \n",
       "2826              175   6.95  2018  \n",
       "2390              117   9.90  2019  \n",
       "2892              189  14.62  2016  \n",
       "1374               56  24.90  2011  "
      ]
     },
     "execution_count": 8,
     "metadata": {},
     "output_type": "execute_result"
    }
   ],
   "source": [
    "white_wine_df.sample(5)"
   ]
  },
  {
   "cell_type": "code",
   "execution_count": 9,
   "metadata": {},
   "outputs": [
    {
     "data": {
      "text/html": [
       "<div>\n",
       "<style scoped>\n",
       "    .dataframe tbody tr th:only-of-type {\n",
       "        vertical-align: middle;\n",
       "    }\n",
       "\n",
       "    .dataframe tbody tr th {\n",
       "        vertical-align: top;\n",
       "    }\n",
       "\n",
       "    .dataframe thead th {\n",
       "        text-align: right;\n",
       "    }\n",
       "</style>\n",
       "<table border=\"1\" class=\"dataframe\">\n",
       "  <thead>\n",
       "    <tr style=\"text-align: right;\">\n",
       "      <th></th>\n",
       "      <th>id</th>\n",
       "      <th>country</th>\n",
       "      <th>description</th>\n",
       "      <th>designation</th>\n",
       "      <th>points</th>\n",
       "      <th>price</th>\n",
       "      <th>province</th>\n",
       "      <th>region_1</th>\n",
       "      <th>region_2</th>\n",
       "      <th>taster_name</th>\n",
       "      <th>taster_twitter_handle</th>\n",
       "      <th>title</th>\n",
       "      <th>variety</th>\n",
       "      <th>winery</th>\n",
       "    </tr>\n",
       "  </thead>\n",
       "  <tbody>\n",
       "    <tr>\n",
       "      <th>59487</th>\n",
       "      <td>59487</td>\n",
       "      <td>Argentina</td>\n",
       "      <td>Wiry herbal aromas of blueberry and currant le...</td>\n",
       "      <td>Ampakama</td>\n",
       "      <td>84</td>\n",
       "      <td>11.0</td>\n",
       "      <td>Other</td>\n",
       "      <td>San Juan</td>\n",
       "      <td>NaN</td>\n",
       "      <td>Michael Schachner</td>\n",
       "      <td>@wineschach</td>\n",
       "      <td>Casa Montes 2014 Ampakama Syrah (San Juan)</td>\n",
       "      <td>Syrah</td>\n",
       "      <td>Casa Montes</td>\n",
       "    </tr>\n",
       "    <tr>\n",
       "      <th>16511</th>\n",
       "      <td>16511</td>\n",
       "      <td>Argentina</td>\n",
       "      <td>Big, full, ripe and black as night, this may b...</td>\n",
       "      <td>Apartado Gran</td>\n",
       "      <td>93</td>\n",
       "      <td>100.0</td>\n",
       "      <td>Other</td>\n",
       "      <td>Argentina</td>\n",
       "      <td>NaN</td>\n",
       "      <td>Michael Schachner</td>\n",
       "      <td>@wineschach</td>\n",
       "      <td>Rutini 2013 Apartado Gran Malbec (Argentina)</td>\n",
       "      <td>Malbec</td>\n",
       "      <td>Rutini</td>\n",
       "    </tr>\n",
       "    <tr>\n",
       "      <th>49376</th>\n",
       "      <td>49376</td>\n",
       "      <td>US</td>\n",
       "      <td>Hearty and rustic, this is a blend of several ...</td>\n",
       "      <td>Red Splash</td>\n",
       "      <td>83</td>\n",
       "      <td>10.0</td>\n",
       "      <td>California</td>\n",
       "      <td>Sonoma County</td>\n",
       "      <td>Sonoma</td>\n",
       "      <td>NaN</td>\n",
       "      <td>NaN</td>\n",
       "      <td>St. Francis 2007 Red Splash Red (Sonoma County)</td>\n",
       "      <td>Red Blend</td>\n",
       "      <td>St. Francis</td>\n",
       "    </tr>\n",
       "    <tr>\n",
       "      <th>92172</th>\n",
       "      <td>92172</td>\n",
       "      <td>Australia</td>\n",
       "      <td>Though a bit timid on the nose, this example i...</td>\n",
       "      <td>NaN</td>\n",
       "      <td>87</td>\n",
       "      <td>18.0</td>\n",
       "      <td>Victoria</td>\n",
       "      <td>Yarra Valley</td>\n",
       "      <td>NaN</td>\n",
       "      <td>NaN</td>\n",
       "      <td>NaN</td>\n",
       "      <td>Yering Station 2006 Shiraz-Viognier (Yarra Val...</td>\n",
       "      <td>Shiraz-Viognier</td>\n",
       "      <td>Yering Station</td>\n",
       "    </tr>\n",
       "    <tr>\n",
       "      <th>36107</th>\n",
       "      <td>36107</td>\n",
       "      <td>US</td>\n",
       "      <td>This tasty, well-built wine is light in color,...</td>\n",
       "      <td>Estate Bottled</td>\n",
       "      <td>89</td>\n",
       "      <td>28.0</td>\n",
       "      <td>California</td>\n",
       "      <td>El Dorado</td>\n",
       "      <td>Sierra Foothills</td>\n",
       "      <td>Jim Gordon</td>\n",
       "      <td>@gordone_cellars</td>\n",
       "      <td>Lava Cap 2014 Estate Bottled Grenache (El Dorado)</td>\n",
       "      <td>Grenache</td>\n",
       "      <td>Lava Cap</td>\n",
       "    </tr>\n",
       "  </tbody>\n",
       "</table>\n",
       "</div>"
      ],
      "text/plain": [
       "          id    country                                        description  \\\n",
       "59487  59487  Argentina  Wiry herbal aromas of blueberry and currant le...   \n",
       "16511  16511  Argentina  Big, full, ripe and black as night, this may b...   \n",
       "49376  49376         US  Hearty and rustic, this is a blend of several ...   \n",
       "92172  92172  Australia  Though a bit timid on the nose, this example i...   \n",
       "36107  36107         US  This tasty, well-built wine is light in color,...   \n",
       "\n",
       "          designation  points  price    province       region_1  \\\n",
       "59487        Ampakama      84   11.0       Other       San Juan   \n",
       "16511   Apartado Gran      93  100.0       Other      Argentina   \n",
       "49376      Red Splash      83   10.0  California  Sonoma County   \n",
       "92172             NaN      87   18.0    Victoria   Yarra Valley   \n",
       "36107  Estate Bottled      89   28.0  California      El Dorado   \n",
       "\n",
       "               region_2        taster_name taster_twitter_handle  \\\n",
       "59487               NaN  Michael Schachner           @wineschach   \n",
       "16511               NaN  Michael Schachner           @wineschach   \n",
       "49376            Sonoma                NaN                   NaN   \n",
       "92172               NaN                NaN                   NaN   \n",
       "36107  Sierra Foothills         Jim Gordon      @gordone_cellars   \n",
       "\n",
       "                                                   title          variety  \\\n",
       "59487         Casa Montes 2014 Ampakama Syrah (San Juan)            Syrah   \n",
       "16511       Rutini 2013 Apartado Gran Malbec (Argentina)           Malbec   \n",
       "49376    St. Francis 2007 Red Splash Red (Sonoma County)        Red Blend   \n",
       "92172  Yering Station 2006 Shiraz-Viognier (Yarra Val...  Shiraz-Viognier   \n",
       "36107  Lava Cap 2014 Estate Bottled Grenache (El Dorado)         Grenache   \n",
       "\n",
       "               winery  \n",
       "59487     Casa Montes  \n",
       "16511          Rutini  \n",
       "49376     St. Francis  \n",
       "92172  Yering Station  \n",
       "36107        Lava Cap  "
      ]
     },
     "execution_count": 9,
     "metadata": {},
     "output_type": "execute_result"
    }
   ],
   "source": [
    "big_wine_df.sample(5)"
   ]
  },
  {
   "cell_type": "code",
   "execution_count": 10,
   "metadata": {},
   "outputs": [
    {
     "data": {
      "text/html": [
       "<div>\n",
       "<style scoped>\n",
       "    .dataframe tbody tr th:only-of-type {\n",
       "        vertical-align: middle;\n",
       "    }\n",
       "\n",
       "    .dataframe tbody tr th {\n",
       "        vertical-align: top;\n",
       "    }\n",
       "\n",
       "    .dataframe thead th {\n",
       "        text-align: right;\n",
       "    }\n",
       "</style>\n",
       "<table border=\"1\" class=\"dataframe\">\n",
       "  <thead>\n",
       "    <tr style=\"text-align: right;\">\n",
       "      <th></th>\n",
       "      <th>winery</th>\n",
       "      <th>wine</th>\n",
       "      <th>rating</th>\n",
       "      <th>location</th>\n",
       "      <th>image</th>\n",
       "      <th>id</th>\n",
       "    </tr>\n",
       "  </thead>\n",
       "  <tbody>\n",
       "    <tr>\n",
       "      <th>553</th>\n",
       "      <td>Vega Sicilia</td>\n",
       "      <td>Unico 2005</td>\n",
       "      <td>{'average': '4.7', 'reviews': '2186 ratings'}</td>\n",
       "      <td>Spain\\n·\\nRibera del Duero</td>\n",
       "      <td>https://images.vivino.com/thumbs/SCnpJk_ySUe6X...</td>\n",
       "      <td>554</td>\n",
       "    </tr>\n",
       "    <tr>\n",
       "      <th>493</th>\n",
       "      <td>Seaver Vineyards</td>\n",
       "      <td>GTS Cabernet Sauvignon 2012</td>\n",
       "      <td>{'average': '4.8', 'reviews': '26 ratings'}</td>\n",
       "      <td>United States\\n·\\nDiamond Mountain District</td>\n",
       "      <td>https://images.vivino.com/thumbs/gVrX2HuIThGU4...</td>\n",
       "      <td>494</td>\n",
       "    </tr>\n",
       "    <tr>\n",
       "      <th>46</th>\n",
       "      <td>Tedeschi</td>\n",
       "      <td>La Fabriseria Amarone della Valpolicella Class...</td>\n",
       "      <td>{'average': '4.9', 'reviews': '32 ratings'}</td>\n",
       "      <td>Italy\\n·\\nAmarone della Valpolicella Classico</td>\n",
       "      <td>https://images.vivino.com/thumbs/XtWBhvg9QACn8...</td>\n",
       "      <td>47</td>\n",
       "    </tr>\n",
       "    <tr>\n",
       "      <th>671</th>\n",
       "      <td>Château Lafite Rothschild</td>\n",
       "      <td>Pauillac (Premier Grand Cru Classé) 1985</td>\n",
       "      <td>{'average': '4.7', 'reviews': '667 ratings'}</td>\n",
       "      <td>France\\n·\\nPauillac</td>\n",
       "      <td>https://images.vivino.com/thumbs/uDMfPG10R1efm...</td>\n",
       "      <td>672</td>\n",
       "    </tr>\n",
       "    <tr>\n",
       "      <th>138</th>\n",
       "      <td>Frank Family</td>\n",
       "      <td>Patriarch 2013</td>\n",
       "      <td>{'average': '4.8', 'reviews': '154 ratings'}</td>\n",
       "      <td>United States\\n·\\nRutherford</td>\n",
       "      <td>https://images.vivino.com/thumbs/BFAcH67rRxyiZ...</td>\n",
       "      <td>139</td>\n",
       "    </tr>\n",
       "  </tbody>\n",
       "</table>\n",
       "</div>"
      ],
      "text/plain": [
       "                        winery  \\\n",
       "553               Vega Sicilia   \n",
       "493           Seaver Vineyards   \n",
       "46                    Tedeschi   \n",
       "671  Château Lafite Rothschild   \n",
       "138               Frank Family   \n",
       "\n",
       "                                                  wine  \\\n",
       "553                                         Unico 2005   \n",
       "493                        GTS Cabernet Sauvignon 2012   \n",
       "46   La Fabriseria Amarone della Valpolicella Class...   \n",
       "671           Pauillac (Premier Grand Cru Classé) 1985   \n",
       "138                                     Patriarch 2013   \n",
       "\n",
       "                                            rating  \\\n",
       "553  {'average': '4.7', 'reviews': '2186 ratings'}   \n",
       "493    {'average': '4.8', 'reviews': '26 ratings'}   \n",
       "46     {'average': '4.9', 'reviews': '32 ratings'}   \n",
       "671   {'average': '4.7', 'reviews': '667 ratings'}   \n",
       "138   {'average': '4.8', 'reviews': '154 ratings'}   \n",
       "\n",
       "                                          location  \\\n",
       "553                     Spain\\n·\\nRibera del Duero   \n",
       "493    United States\\n·\\nDiamond Mountain District   \n",
       "46   Italy\\n·\\nAmarone della Valpolicella Classico   \n",
       "671                            France\\n·\\nPauillac   \n",
       "138                   United States\\n·\\nRutherford   \n",
       "\n",
       "                                                 image   id  \n",
       "553  https://images.vivino.com/thumbs/SCnpJk_ySUe6X...  554  \n",
       "493  https://images.vivino.com/thumbs/gVrX2HuIThGU4...  494  \n",
       "46   https://images.vivino.com/thumbs/XtWBhvg9QACn8...   47  \n",
       "671  https://images.vivino.com/thumbs/uDMfPG10R1efm...  672  \n",
       "138  https://images.vivino.com/thumbs/BFAcH67rRxyiZ...  139  "
      ]
     },
     "execution_count": 10,
     "metadata": {},
     "output_type": "execute_result"
    }
   ],
   "source": [
    "red_wine_api_df.sample(5)"
   ]
  },
  {
   "cell_type": "code",
   "execution_count": 11,
   "metadata": {},
   "outputs": [
    {
     "data": {
      "text/html": [
       "<div>\n",
       "<style scoped>\n",
       "    .dataframe tbody tr th:only-of-type {\n",
       "        vertical-align: middle;\n",
       "    }\n",
       "\n",
       "    .dataframe tbody tr th {\n",
       "        vertical-align: top;\n",
       "    }\n",
       "\n",
       "    .dataframe thead th {\n",
       "        text-align: right;\n",
       "    }\n",
       "</style>\n",
       "<table border=\"1\" class=\"dataframe\">\n",
       "  <thead>\n",
       "    <tr style=\"text-align: right;\">\n",
       "      <th></th>\n",
       "      <th>winery</th>\n",
       "      <th>wine</th>\n",
       "      <th>rating</th>\n",
       "      <th>location</th>\n",
       "      <th>image</th>\n",
       "      <th>id</th>\n",
       "    </tr>\n",
       "  </thead>\n",
       "  <tbody>\n",
       "    <tr>\n",
       "      <th>130</th>\n",
       "      <td>Keller</td>\n",
       "      <td>Kirchspiel Riesling GG 2006</td>\n",
       "      <td>{'average': '4.7', 'reviews': '31 ratings'}</td>\n",
       "      <td>Germany\\n·\\nRheinhessen</td>\n",
       "      <td>https://images.vivino.com/thumbs/3hM2pVPBQBWXR...</td>\n",
       "      <td>131</td>\n",
       "    </tr>\n",
       "    <tr>\n",
       "      <th>487</th>\n",
       "      <td>Château de Beaucastel</td>\n",
       "      <td>Vieilles Vignes Roussanne 2017</td>\n",
       "      <td>{'average': '4.6', 'reviews': '28 ratings'}</td>\n",
       "      <td>France\\n·\\nCôtes-du-Rhône</td>\n",
       "      <td>https://images.vivino.com/thumbs/4ZPNCd5fRZ-Yf...</td>\n",
       "      <td>488</td>\n",
       "    </tr>\n",
       "    <tr>\n",
       "      <th>320</th>\n",
       "      <td>Domaine Leflaive</td>\n",
       "      <td>Bienvenues-Bâtard-Montrachet Grand Cru 2011</td>\n",
       "      <td>{'average': '4.6', 'reviews': '49 ratings'}</td>\n",
       "      <td>France\\n·\\nBienvenues-Bâtard-Montrachet Grand Cru</td>\n",
       "      <td>https://images.vivino.com/thumbs/qhfegylxSw6KO...</td>\n",
       "      <td>321</td>\n",
       "    </tr>\n",
       "    <tr>\n",
       "      <th>440</th>\n",
       "      <td>ConcaEntosa</td>\n",
       "      <td>Shar 2017</td>\n",
       "      <td>{'average': '4.6', 'reviews': '31 ratings'}</td>\n",
       "      <td>Italy\\n·\\nIsola dei Nuraghi</td>\n",
       "      <td>https://images.vivino.com/highlights/icon/top_...</td>\n",
       "      <td>441</td>\n",
       "    </tr>\n",
       "    <tr>\n",
       "      <th>358</th>\n",
       "      <td>Arnaud Ente</td>\n",
       "      <td>Meursault 2015</td>\n",
       "      <td>{'average': '4.6', 'reviews': '44 ratings'}</td>\n",
       "      <td>France\\n·\\nMeursault</td>\n",
       "      <td>https://images.vivino.com/thumbs/unAHcULjTSuHv...</td>\n",
       "      <td>359</td>\n",
       "    </tr>\n",
       "  </tbody>\n",
       "</table>\n",
       "</div>"
      ],
      "text/plain": [
       "                    winery                                         wine  \\\n",
       "130                 Keller                  Kirchspiel Riesling GG 2006   \n",
       "487  Château de Beaucastel               Vieilles Vignes Roussanne 2017   \n",
       "320       Domaine Leflaive  Bienvenues-Bâtard-Montrachet Grand Cru 2011   \n",
       "440            ConcaEntosa                                    Shar 2017   \n",
       "358            Arnaud Ente                               Meursault 2015   \n",
       "\n",
       "                                          rating  \\\n",
       "130  {'average': '4.7', 'reviews': '31 ratings'}   \n",
       "487  {'average': '4.6', 'reviews': '28 ratings'}   \n",
       "320  {'average': '4.6', 'reviews': '49 ratings'}   \n",
       "440  {'average': '4.6', 'reviews': '31 ratings'}   \n",
       "358  {'average': '4.6', 'reviews': '44 ratings'}   \n",
       "\n",
       "                                              location  \\\n",
       "130                            Germany\\n·\\nRheinhessen   \n",
       "487                          France\\n·\\nCôtes-du-Rhône   \n",
       "320  France\\n·\\nBienvenues-Bâtard-Montrachet Grand Cru   \n",
       "440                        Italy\\n·\\nIsola dei Nuraghi   \n",
       "358                               France\\n·\\nMeursault   \n",
       "\n",
       "                                                 image   id  \n",
       "130  https://images.vivino.com/thumbs/3hM2pVPBQBWXR...  131  \n",
       "487  https://images.vivino.com/thumbs/4ZPNCd5fRZ-Yf...  488  \n",
       "320  https://images.vivino.com/thumbs/qhfegylxSw6KO...  321  \n",
       "440  https://images.vivino.com/highlights/icon/top_...  441  \n",
       "358  https://images.vivino.com/thumbs/unAHcULjTSuHv...  359  "
      ]
     },
     "execution_count": 11,
     "metadata": {},
     "output_type": "execute_result"
    }
   ],
   "source": [
    "white_wine_api_df.sample(5)"
   ]
  },
  {
   "cell_type": "markdown",
   "metadata": {
    "id": "adaK2iPNzVu4"
   },
   "source": [
    "### Quality Issue 1: Missing data in lots of columns of big_wine_df"
   ]
  },
  {
   "cell_type": "code",
   "execution_count": 8,
   "metadata": {
    "id": "SpW59kh-zl8d"
   },
   "outputs": [
    {
     "data": {
      "text/html": [
       "<div>\n",
       "<style scoped>\n",
       "    .dataframe tbody tr th:only-of-type {\n",
       "        vertical-align: middle;\n",
       "    }\n",
       "\n",
       "    .dataframe tbody tr th {\n",
       "        vertical-align: top;\n",
       "    }\n",
       "\n",
       "    .dataframe thead th {\n",
       "        text-align: right;\n",
       "    }\n",
       "</style>\n",
       "<table border=\"1\" class=\"dataframe\">\n",
       "  <thead>\n",
       "    <tr style=\"text-align: right;\">\n",
       "      <th></th>\n",
       "      <th>id</th>\n",
       "      <th>country</th>\n",
       "      <th>description</th>\n",
       "      <th>designation</th>\n",
       "      <th>points</th>\n",
       "      <th>price</th>\n",
       "      <th>province</th>\n",
       "      <th>region_1</th>\n",
       "      <th>region_2</th>\n",
       "      <th>taster_name</th>\n",
       "      <th>taster_twitter_handle</th>\n",
       "      <th>title</th>\n",
       "      <th>variety</th>\n",
       "      <th>winery</th>\n",
       "    </tr>\n",
       "  </thead>\n",
       "  <tbody>\n",
       "    <tr>\n",
       "      <th>0</th>\n",
       "      <td>0</td>\n",
       "      <td>Italy</td>\n",
       "      <td>Aromas include tropical fruit, broom, brimston...</td>\n",
       "      <td>Vulkà Bianco</td>\n",
       "      <td>87</td>\n",
       "      <td>NaN</td>\n",
       "      <td>Sicily &amp; Sardinia</td>\n",
       "      <td>Etna</td>\n",
       "      <td>NaN</td>\n",
       "      <td>Kerin O’Keefe</td>\n",
       "      <td>@kerinokeefe</td>\n",
       "      <td>Nicosia 2013 Vulkà Bianco  (Etna)</td>\n",
       "      <td>White Blend</td>\n",
       "      <td>Nicosia</td>\n",
       "    </tr>\n",
       "    <tr>\n",
       "      <th>1</th>\n",
       "      <td>1</td>\n",
       "      <td>Portugal</td>\n",
       "      <td>This is ripe and fruity, a wine that is smooth...</td>\n",
       "      <td>Avidagos</td>\n",
       "      <td>87</td>\n",
       "      <td>15.0</td>\n",
       "      <td>Douro</td>\n",
       "      <td>NaN</td>\n",
       "      <td>NaN</td>\n",
       "      <td>Roger Voss</td>\n",
       "      <td>@vossroger</td>\n",
       "      <td>Quinta dos Avidagos 2011 Avidagos Red (Douro)</td>\n",
       "      <td>Portuguese Red</td>\n",
       "      <td>Quinta dos Avidagos</td>\n",
       "    </tr>\n",
       "    <tr>\n",
       "      <th>2</th>\n",
       "      <td>2</td>\n",
       "      <td>US</td>\n",
       "      <td>Tart and snappy, the flavors of lime flesh and...</td>\n",
       "      <td>NaN</td>\n",
       "      <td>87</td>\n",
       "      <td>14.0</td>\n",
       "      <td>Oregon</td>\n",
       "      <td>Willamette Valley</td>\n",
       "      <td>Willamette Valley</td>\n",
       "      <td>Paul Gregutt</td>\n",
       "      <td>@paulgwine</td>\n",
       "      <td>Rainstorm 2013 Pinot Gris (Willamette Valley)</td>\n",
       "      <td>Pinot Gris</td>\n",
       "      <td>Rainstorm</td>\n",
       "    </tr>\n",
       "    <tr>\n",
       "      <th>3</th>\n",
       "      <td>3</td>\n",
       "      <td>US</td>\n",
       "      <td>Pineapple rind, lemon pith and orange blossom ...</td>\n",
       "      <td>Reserve Late Harvest</td>\n",
       "      <td>87</td>\n",
       "      <td>13.0</td>\n",
       "      <td>Michigan</td>\n",
       "      <td>Lake Michigan Shore</td>\n",
       "      <td>NaN</td>\n",
       "      <td>Alexander Peartree</td>\n",
       "      <td>NaN</td>\n",
       "      <td>St. Julian 2013 Reserve Late Harvest Riesling ...</td>\n",
       "      <td>Riesling</td>\n",
       "      <td>St. Julian</td>\n",
       "    </tr>\n",
       "    <tr>\n",
       "      <th>4</th>\n",
       "      <td>4</td>\n",
       "      <td>US</td>\n",
       "      <td>Much like the regular bottling from 2012, this...</td>\n",
       "      <td>Vintner's Reserve Wild Child Block</td>\n",
       "      <td>87</td>\n",
       "      <td>65.0</td>\n",
       "      <td>Oregon</td>\n",
       "      <td>Willamette Valley</td>\n",
       "      <td>Willamette Valley</td>\n",
       "      <td>Paul Gregutt</td>\n",
       "      <td>@paulgwine</td>\n",
       "      <td>Sweet Cheeks 2012 Vintner's Reserve Wild Child...</td>\n",
       "      <td>Pinot Noir</td>\n",
       "      <td>Sweet Cheeks</td>\n",
       "    </tr>\n",
       "  </tbody>\n",
       "</table>\n",
       "</div>"
      ],
      "text/plain": [
       "   id   country                                        description  \\\n",
       "0   0     Italy  Aromas include tropical fruit, broom, brimston...   \n",
       "1   1  Portugal  This is ripe and fruity, a wine that is smooth...   \n",
       "2   2        US  Tart and snappy, the flavors of lime flesh and...   \n",
       "3   3        US  Pineapple rind, lemon pith and orange blossom ...   \n",
       "4   4        US  Much like the regular bottling from 2012, this...   \n",
       "\n",
       "                          designation  points  price           province  \\\n",
       "0                        Vulkà Bianco      87    NaN  Sicily & Sardinia   \n",
       "1                            Avidagos      87   15.0              Douro   \n",
       "2                                 NaN      87   14.0             Oregon   \n",
       "3                Reserve Late Harvest      87   13.0           Michigan   \n",
       "4  Vintner's Reserve Wild Child Block      87   65.0             Oregon   \n",
       "\n",
       "              region_1           region_2         taster_name  \\\n",
       "0                 Etna                NaN       Kerin O’Keefe   \n",
       "1                  NaN                NaN          Roger Voss   \n",
       "2    Willamette Valley  Willamette Valley        Paul Gregutt   \n",
       "3  Lake Michigan Shore                NaN  Alexander Peartree   \n",
       "4    Willamette Valley  Willamette Valley        Paul Gregutt   \n",
       "\n",
       "  taster_twitter_handle                                              title  \\\n",
       "0          @kerinokeefe                  Nicosia 2013 Vulkà Bianco  (Etna)   \n",
       "1            @vossroger      Quinta dos Avidagos 2011 Avidagos Red (Douro)   \n",
       "2           @paulgwine       Rainstorm 2013 Pinot Gris (Willamette Valley)   \n",
       "3                   NaN  St. Julian 2013 Reserve Late Harvest Riesling ...   \n",
       "4           @paulgwine   Sweet Cheeks 2012 Vintner's Reserve Wild Child...   \n",
       "\n",
       "          variety               winery  \n",
       "0     White Blend              Nicosia  \n",
       "1  Portuguese Red  Quinta dos Avidagos  \n",
       "2      Pinot Gris            Rainstorm  \n",
       "3        Riesling           St. Julian  \n",
       "4      Pinot Noir         Sweet Cheeks  "
      ]
     },
     "execution_count": 8,
     "metadata": {},
     "output_type": "execute_result"
    }
   ],
   "source": [
    "#Inspect the dataframe visually\n",
    "big_wine_df.head()"
   ]
  },
  {
   "cell_type": "code",
   "execution_count": 9,
   "metadata": {
    "id": "-qfcocStzsKg"
   },
   "outputs": [
    {
     "name": "stdout",
     "output_type": "stream",
     "text": [
      "(129971, 14)\n"
     ]
    },
    {
     "data": {
      "text/plain": [
       "id                           0\n",
       "country                     63\n",
       "description                  0\n",
       "designation              37465\n",
       "points                       0\n",
       "price                     8996\n",
       "province                    63\n",
       "region_1                 21247\n",
       "region_2                 79460\n",
       "taster_name              26244\n",
       "taster_twitter_handle    31213\n",
       "title                        0\n",
       "variety                      1\n",
       "winery                       0\n",
       "dtype: int64"
      ]
     },
     "execution_count": 9,
     "metadata": {},
     "output_type": "execute_result"
    }
   ],
   "source": [
    "#Inspecting the dataframe programmatically\n",
    "print(big_wine_df.shape)\n",
    "big_wine_df.isnull().sum()"
   ]
  },
  {
   "cell_type": "markdown",
   "metadata": {},
   "source": [
    "The issue is that there are a lot of null values in this dataframe. I used .head() to see that there are null values in just the first 5 rows, and then used .isnull().sum() to get the total amount of null values in each column. "
   ]
  },
  {
   "cell_type": "markdown",
   "metadata": {
    "id": "8Be77N4I1AmE"
   },
   "source": [
    "### Quality Issue 2: Duplicated wines in big_wine_df"
   ]
  },
  {
   "cell_type": "code",
   "execution_count": 12,
   "metadata": {
    "id": "iMhHyiyLM2I3"
   },
   "outputs": [
    {
     "name": "stdout",
     "output_type": "stream",
     "text": [
      "959                  Jacquart NV Brut Mosaïque  (Champagne)\n",
      "1176      Spagnol NV Col del Sas Extra Dry  (Prosecco di...\n",
      "2360      Domaines Devillard 2011 Château de Chamirey  (...\n",
      "2408                Souverain 2010 Chardonnay (North Coast)\n",
      "2409      Tasca d'Almerita 2011 Sallier de la Tour Grill...\n",
      "                                ...                        \n",
      "129879    Maison Bleue 2013 Metis Red (Columbia Valley (...\n",
      "129880    Martin Ray 2015 Chardonnay (Russian River Valley)\n",
      "129881                    Martinsancho 2015 Verdejo (Rueda)\n",
      "129882     Matthews 2012 Reserve Red (Columbia Valley (WA))\n",
      "129913    Woodward Canyon 2005 Artist Series #14 Caberne...\n",
      "Name: title, Length: 11131, dtype: object\n"
     ]
    }
   ],
   "source": [
    "# Inspect the dataframe visually\n",
    "print(big_wine_df[big_wine_df.duplicated('title')]['title'])"
   ]
  },
  {
   "cell_type": "code",
   "execution_count": 11,
   "metadata": {
    "id": "bnviRCUI-bb7"
   },
   "outputs": [
    {
     "name": "stdout",
     "output_type": "stream",
     "text": [
      "129971\n",
      "118840\n"
     ]
    },
    {
     "data": {
      "text/plain": [
       "11131"
      ]
     },
     "execution_count": 11,
     "metadata": {},
     "output_type": "execute_result"
    }
   ],
   "source": [
    "# Inspect the dataframe programmatically\n",
    "#big_wine_df[big_wine_df['price'] > 500].count()\n",
    "print(big_wine_df['title'].size)\n",
    "print(big_wine_df['title'].nunique())\n",
    "big_wine_df['title'].duplicated().sum()"
   ]
  },
  {
   "cell_type": "markdown",
   "metadata": {},
   "source": [
    "This quality issue is duplicated values. I printed the duplicated titles of the wines using .duplicated()(title). This shows that the wine titles are very descriptive, so if there are duplicated values it is most likely the same wine being reviewed. I used .duplicated.sum() to get the total number of duplicated titles, which is 11,131."
   ]
  },
  {
   "cell_type": "markdown",
   "metadata": {
    "id": "lXhGiYyiwwKN"
   },
   "source": [
    "### Tidiness Issue 1: Multiple variables in ratings column of red_wine_api_df"
   ]
  },
  {
   "cell_type": "code",
   "execution_count": 13,
   "metadata": {
    "id": "fleC5rORI0Xl"
   },
   "outputs": [
    {
     "data": {
      "text/html": [
       "<div>\n",
       "<style scoped>\n",
       "    .dataframe tbody tr th:only-of-type {\n",
       "        vertical-align: middle;\n",
       "    }\n",
       "\n",
       "    .dataframe tbody tr th {\n",
       "        vertical-align: top;\n",
       "    }\n",
       "\n",
       "    .dataframe thead th {\n",
       "        text-align: right;\n",
       "    }\n",
       "</style>\n",
       "<table border=\"1\" class=\"dataframe\">\n",
       "  <thead>\n",
       "    <tr style=\"text-align: right;\">\n",
       "      <th></th>\n",
       "      <th>winery</th>\n",
       "      <th>wine</th>\n",
       "      <th>rating</th>\n",
       "      <th>location</th>\n",
       "      <th>image</th>\n",
       "      <th>id</th>\n",
       "    </tr>\n",
       "  </thead>\n",
       "  <tbody>\n",
       "    <tr>\n",
       "      <th>0</th>\n",
       "      <td>Maselva</td>\n",
       "      <td>Emporda 2012</td>\n",
       "      <td>{'average': '4.9', 'reviews': '88 ratings'}</td>\n",
       "      <td>Spain\\n·\\nEmpordà</td>\n",
       "      <td>https://images.vivino.com/thumbs/ApnIiXjcT5Kc3...</td>\n",
       "      <td>1</td>\n",
       "    </tr>\n",
       "    <tr>\n",
       "      <th>1</th>\n",
       "      <td>Ernesto Ruffo</td>\n",
       "      <td>Amarone della Valpolicella Riserva N.V.</td>\n",
       "      <td>{'average': '4.9', 'reviews': '75 ratings'}</td>\n",
       "      <td>Italy\\n·\\nAmarone della Valpolicella</td>\n",
       "      <td>https://images.vivino.com/thumbs/nC9V6L2mQQSq0...</td>\n",
       "      <td>2</td>\n",
       "    </tr>\n",
       "    <tr>\n",
       "      <th>2</th>\n",
       "      <td>Cartuxa</td>\n",
       "      <td>Pêra-Manca Tinto 1990</td>\n",
       "      <td>{'average': '4.9', 'reviews': '72 ratings'}</td>\n",
       "      <td>Portugal\\n·\\nAlentejo</td>\n",
       "      <td>https://images.vivino.com/thumbs/L33jsYUuTMWTM...</td>\n",
       "      <td>3</td>\n",
       "    </tr>\n",
       "    <tr>\n",
       "      <th>3</th>\n",
       "      <td>Schrader</td>\n",
       "      <td>Cabernet Sauvignon RBS Beckstoffer To Kalon Vi...</td>\n",
       "      <td>{'average': '4.9', 'reviews': '72 ratings'}</td>\n",
       "      <td>United States\\n·\\nOakville</td>\n",
       "      <td>https://images.vivino.com/thumbs/GpcSXs2ERS6ni...</td>\n",
       "      <td>4</td>\n",
       "    </tr>\n",
       "    <tr>\n",
       "      <th>4</th>\n",
       "      <td>Hundred Acre</td>\n",
       "      <td>Wraith Cabernet Sauvignon 2013</td>\n",
       "      <td>{'average': '4.9', 'reviews': '68 ratings'}</td>\n",
       "      <td>United States\\n·\\nNapa Valley</td>\n",
       "      <td>https://images.vivino.com/thumbs/PBhGMcRNQ7aVn...</td>\n",
       "      <td>5</td>\n",
       "    </tr>\n",
       "  </tbody>\n",
       "</table>\n",
       "</div>"
      ],
      "text/plain": [
       "          winery                                               wine  \\\n",
       "0        Maselva                                       Emporda 2012   \n",
       "1  Ernesto Ruffo            Amarone della Valpolicella Riserva N.V.   \n",
       "2        Cartuxa                              Pêra-Manca Tinto 1990   \n",
       "3       Schrader  Cabernet Sauvignon RBS Beckstoffer To Kalon Vi...   \n",
       "4   Hundred Acre                     Wraith Cabernet Sauvignon 2013   \n",
       "\n",
       "                                        rating  \\\n",
       "0  {'average': '4.9', 'reviews': '88 ratings'}   \n",
       "1  {'average': '4.9', 'reviews': '75 ratings'}   \n",
       "2  {'average': '4.9', 'reviews': '72 ratings'}   \n",
       "3  {'average': '4.9', 'reviews': '72 ratings'}   \n",
       "4  {'average': '4.9', 'reviews': '68 ratings'}   \n",
       "\n",
       "                               location  \\\n",
       "0                     Spain\\n·\\nEmpordà   \n",
       "1  Italy\\n·\\nAmarone della Valpolicella   \n",
       "2                 Portugal\\n·\\nAlentejo   \n",
       "3            United States\\n·\\nOakville   \n",
       "4         United States\\n·\\nNapa Valley   \n",
       "\n",
       "                                               image  id  \n",
       "0  https://images.vivino.com/thumbs/ApnIiXjcT5Kc3...   1  \n",
       "1  https://images.vivino.com/thumbs/nC9V6L2mQQSq0...   2  \n",
       "2  https://images.vivino.com/thumbs/L33jsYUuTMWTM...   3  \n",
       "3  https://images.vivino.com/thumbs/GpcSXs2ERS6ni...   4  \n",
       "4  https://images.vivino.com/thumbs/PBhGMcRNQ7aVn...   5  "
      ]
     },
     "execution_count": 13,
     "metadata": {},
     "output_type": "execute_result"
    }
   ],
   "source": [
    "# Inspect the dataframe visually\n",
    "red_wine_api_df.head()"
   ]
  },
  {
   "cell_type": "code",
   "execution_count": 14,
   "metadata": {
    "id": "BTuQw7Rbsio4"
   },
   "outputs": [
    {
     "name": "stdout",
     "output_type": "stream",
     "text": [
      "<class 'pandas.core.frame.DataFrame'>\n",
      "RangeIndex: 722 entries, 0 to 721\n",
      "Data columns (total 6 columns):\n",
      " #   Column    Non-Null Count  Dtype \n",
      "---  ------    --------------  ----- \n",
      " 0   winery    722 non-null    object\n",
      " 1   wine      722 non-null    object\n",
      " 2   rating    722 non-null    object\n",
      " 3   location  722 non-null    object\n",
      " 4   image     722 non-null    object\n",
      " 5   id        722 non-null    int64 \n",
      "dtypes: int64(1), object(5)\n",
      "memory usage: 34.0+ KB\n"
     ]
    }
   ],
   "source": [
    "# Inspect the dataframe programmatically\n",
    "red_wine_api_df.info()"
   ]
  },
  {
   "cell_type": "markdown",
   "metadata": {},
   "source": [
    "This tidiness issue is multiple values in a single column. In the rating column, there is both average rating and number of ratings, shown by using .head(). The .info() command shows that the data type is an object because of the multiple values, but the actual values are numbers and should be split up, extracted from the string, and changed to floats or ints. "
   ]
  },
  {
   "cell_type": "markdown",
   "metadata": {
    "id": "4ffMoRGSwzYj"
   },
   "source": [
    "\n",
    "### Tidiness Issue 2: Multiple variables in location column of red_wine_api_df"
   ]
  },
  {
   "cell_type": "code",
   "execution_count": 15,
   "metadata": {
    "id": "XUpeoqokw5Qt"
   },
   "outputs": [
    {
     "data": {
      "text/html": [
       "<div>\n",
       "<style scoped>\n",
       "    .dataframe tbody tr th:only-of-type {\n",
       "        vertical-align: middle;\n",
       "    }\n",
       "\n",
       "    .dataframe tbody tr th {\n",
       "        vertical-align: top;\n",
       "    }\n",
       "\n",
       "    .dataframe thead th {\n",
       "        text-align: right;\n",
       "    }\n",
       "</style>\n",
       "<table border=\"1\" class=\"dataframe\">\n",
       "  <thead>\n",
       "    <tr style=\"text-align: right;\">\n",
       "      <th></th>\n",
       "      <th>winery</th>\n",
       "      <th>wine</th>\n",
       "      <th>rating</th>\n",
       "      <th>location</th>\n",
       "      <th>image</th>\n",
       "      <th>id</th>\n",
       "    </tr>\n",
       "  </thead>\n",
       "  <tbody>\n",
       "    <tr>\n",
       "      <th>426</th>\n",
       "      <td></td>\n",
       "      <td>Nordes 2017</td>\n",
       "      <td>{'average': '4.7', 'reviews': '37 ratings'}</td>\n",
       "      <td></td>\n",
       "      <td>https://images.vivino.com/highlights/icon/most...</td>\n",
       "      <td>427</td>\n",
       "    </tr>\n",
       "    <tr>\n",
       "      <th>54</th>\n",
       "      <td>Henri Jayer</td>\n",
       "      <td>Vosne-Romanée Cros Parantoux 1996</td>\n",
       "      <td>{'average': '4.9', 'reviews': '29 ratings'}</td>\n",
       "      <td>France\\n·\\nVosne-Romanée Premier Cru</td>\n",
       "      <td>https://images.vivino.com/thumbs/00o0kud1xybsc...</td>\n",
       "      <td>55</td>\n",
       "    </tr>\n",
       "    <tr>\n",
       "      <th>522</th>\n",
       "      <td>Marchiopolo</td>\n",
       "      <td>Amarone della Valpolicella Classico 2004</td>\n",
       "      <td>{'average': '4.8', 'reviews': '25 ratings'}</td>\n",
       "      <td>Italy\\n·\\nAmarone della Valpolicella Classico</td>\n",
       "      <td>https://images.vivino.com/thumbs/uw9zRbITRpmbu...</td>\n",
       "      <td>523</td>\n",
       "    </tr>\n",
       "    <tr>\n",
       "      <th>556</th>\n",
       "      <td>Joseph Phelps</td>\n",
       "      <td>Insignia 2012</td>\n",
       "      <td>{'average': '4.7', 'reviews': '2089 ratings'}</td>\n",
       "      <td>United States\\n·\\nNapa Valley</td>\n",
       "      <td>https://images.vivino.com/thumbs/NOkljUUMT3i35...</td>\n",
       "      <td>557</td>\n",
       "    </tr>\n",
       "    <tr>\n",
       "      <th>642</th>\n",
       "      <td>Antinori</td>\n",
       "      <td>Tenuta Tignanello 'Solaia' 1997</td>\n",
       "      <td>{'average': '4.7', 'reviews': '780 ratings'}</td>\n",
       "      <td>Italy\\n·\\nToscana</td>\n",
       "      <td>https://images.vivino.com/thumbs/6isg_zaUR3aWk...</td>\n",
       "      <td>643</td>\n",
       "    </tr>\n",
       "  </tbody>\n",
       "</table>\n",
       "</div>"
      ],
      "text/plain": [
       "            winery                                      wine  \\\n",
       "426                                              Nordes 2017   \n",
       "54     Henri Jayer         Vosne-Romanée Cros Parantoux 1996   \n",
       "522    Marchiopolo  Amarone della Valpolicella Classico 2004   \n",
       "556  Joseph Phelps                             Insignia 2012   \n",
       "642       Antinori           Tenuta Tignanello 'Solaia' 1997   \n",
       "\n",
       "                                            rating  \\\n",
       "426    {'average': '4.7', 'reviews': '37 ratings'}   \n",
       "54     {'average': '4.9', 'reviews': '29 ratings'}   \n",
       "522    {'average': '4.8', 'reviews': '25 ratings'}   \n",
       "556  {'average': '4.7', 'reviews': '2089 ratings'}   \n",
       "642   {'average': '4.7', 'reviews': '780 ratings'}   \n",
       "\n",
       "                                          location  \\\n",
       "426                                                  \n",
       "54            France\\n·\\nVosne-Romanée Premier Cru   \n",
       "522  Italy\\n·\\nAmarone della Valpolicella Classico   \n",
       "556                  United States\\n·\\nNapa Valley   \n",
       "642                              Italy\\n·\\nToscana   \n",
       "\n",
       "                                                 image   id  \n",
       "426  https://images.vivino.com/highlights/icon/most...  427  \n",
       "54   https://images.vivino.com/thumbs/00o0kud1xybsc...   55  \n",
       "522  https://images.vivino.com/thumbs/uw9zRbITRpmbu...  523  \n",
       "556  https://images.vivino.com/thumbs/NOkljUUMT3i35...  557  \n",
       "642  https://images.vivino.com/thumbs/6isg_zaUR3aWk...  643  "
      ]
     },
     "execution_count": 15,
     "metadata": {},
     "output_type": "execute_result"
    }
   ],
   "source": [
    "# Inspect the dataframe visually\n",
    "red_wine_api_df.sample(5)"
   ]
  },
  {
   "cell_type": "code",
   "execution_count": 16,
   "metadata": {
    "id": "c8JK4DoXxtFA"
   },
   "outputs": [
    {
     "name": "stdout",
     "output_type": "stream",
     "text": [
      "<class 'pandas.core.frame.DataFrame'>\n",
      "RangeIndex: 722 entries, 0 to 721\n",
      "Data columns (total 6 columns):\n",
      " #   Column    Non-Null Count  Dtype \n",
      "---  ------    --------------  ----- \n",
      " 0   winery    722 non-null    object\n",
      " 1   wine      722 non-null    object\n",
      " 2   rating    722 non-null    object\n",
      " 3   location  722 non-null    object\n",
      " 4   image     722 non-null    object\n",
      " 5   id        722 non-null    int64 \n",
      "dtypes: int64(1), object(5)\n",
      "memory usage: 34.0+ KB\n"
     ]
    }
   ],
   "source": [
    "# Inspect the dataframe programmatically\n",
    "red_wine_api_df.info()"
   ]
  },
  {
   "cell_type": "markdown",
   "metadata": {},
   "source": [
    "The tidiness issue here is that there are multiple values in the location column. It has the country and the region in the same column, seperated by \\n's. I used .sampled() to see this and looked to see the datatype with .info()"
   ]
  },
  {
   "cell_type": "markdown",
   "metadata": {
    "id": "D6gmLnBttpCh"
   },
   "source": [
    "## 3. Clean data"
   ]
  },
  {
   "cell_type": "markdown",
   "metadata": {
    "id": "FmFhN52Yyn3l"
   },
   "source": [
    "\n",
    "### Quality Issue 1: Null values\n",
    "\n",
    "There are a lot of null values to take care of here. I will go through them here and explain my decision making:\n",
    "\n",
    "**country**: This variable is needed for analysis and there are only 63 nulls out of over 100,000 rows, so I will delete the rows that have these nulls.\n",
    "\n",
    "**designation**: Seems like designation is just a key word about the wine. Reserve, dry, estate grown, etc. This is not important to my analysis, and about a quarter of the values are null. I do not want to delete this many values from analysis, so I will delete this column as it is not useful to analysis. \n",
    "\n",
    "**price**: Price is an important part of my analysis, as I want to see how price influences quality. Since theres a relatively small number of nulls, about 7%, I will delete the rows with nulls. \n",
    "\n",
    "**province**: I will delete rows with nulls because there are only 63 and It is needed for analysis.\n",
    "\n",
    "**region_1**: While there are a lot of nulls, I would like to keep this column in case I want to narrow down where the wine comes from. I also don't want to delete 21,000 values from other important columns. I will replace nulls with \"no_input\". The winery can be searched for the information if someone wanted to so it is not unknown.\n",
    "\n",
    "**region 2**: I will delete region 2 column because over half are nulls and region 1 is sufficient for me.\n",
    "\n",
    "**taster name and twitter handle**: I will delete both these columns because they don't matter in my analysis and have a good amount of nulls\n",
    "\n",
    "**variety**: only 1 null, so delete row with null"
   ]
  },
  {
   "cell_type": "code",
   "execution_count": 17,
   "metadata": {
    "id": "9UejDWrNMW4a"
   },
   "outputs": [
    {
     "data": {
      "text/plain": [
       "(120915, 10)"
      ]
     },
     "execution_count": 17,
     "metadata": {},
     "output_type": "execute_result"
    }
   ],
   "source": [
    "# Apply the cleaning strategy\n",
    "big_wine_df.isnull().sum()\n",
    "big_wine_no_nulls = big_wine_df.dropna(subset = ['country', 'price', 'province', 'variety'])\n",
    "big_wine_no_nulls = big_wine_no_nulls.drop(['designation', 'region_2', 'taster_name', 'taster_twitter_handle'], axis = 1)\n",
    "big_wine_clean = big_wine_no_nulls.fillna(\"no input\")     \n",
    "big_wine_clean.shape"
   ]
  },
  {
   "cell_type": "code",
   "execution_count": 18,
   "metadata": {
    "id": "oUBee-LPytkv"
   },
   "outputs": [],
   "source": [
    "# Make sure there are no nulls\n",
    "assert big_wine_clean.isnull().sum().sum() == 0"
   ]
  },
  {
   "cell_type": "markdown",
   "metadata": {
    "id": "n_DAUbJrymBL"
   },
   "source": [
    "### Quality Issue 2: Duplicated values\n",
    "\n",
    "There are many duplicated values in the title column. This means that the wine was either input twice or the wine was reviewed more than once. Either way, I will combine duplicated values of wine into one row that has the average rating and price of all the duplicated values. The descriptions differ and I don't need descriptions for my analysis, so I will also delete that column from the dataframe. From looking at a couple examples, the rest of the columns are the same so I will just take the content in the first instance of the duplicates."
   ]
  },
  {
   "cell_type": "code",
   "execution_count": 23,
   "metadata": {
    "id": "5Yfb-Yu5MTuE"
   },
   "outputs": [
    {
     "name": "stdout",
     "output_type": "stream",
     "text": [
      "title\n",
      "Gloria Ferrer NV Sonoma Brut Sparkling (Sonoma County)                              10\n",
      "Korbel NV Brut Sparkling (California)                                                8\n",
      "Segura Viudas NV Extra Dry Sparkling (Cava)                                          7\n",
      "Ruinart NV Brut Rosé  (Champagne)                                                    6\n",
      "Segura Viudas NV Aria Estate Extra Dry Sparkling (Cava)                              6\n",
      "                                                                                    ..\n",
      "Vinkara 2015 Narince (Ankara)                                                        1\n",
      "Parras Vinhos 2010 Montaria Red (Alentejano)                                         1\n",
      "Piera Martellozzo NV 075 Carati Extra Dry  (Prosecco)                                1\n",
      "Piera Martellozzo NV 075 Carati Rosé Cuvee Dry Sparkling (Veneto)                    1\n",
      "Woodward Canyon 2005 Artist Series #14 Cabernet Sauvignon (Columbia Valley (WA))     1\n",
      "Name: count, Length: 9998, dtype: int64\n"
     ]
    }
   ],
   "source": [
    "# See the duplicates and look at a couple of examples to inspect duplicated data\n",
    "print(big_wine_clean[big_wine_clean.duplicated('title')]['title'].value_counts())\n",
    "#Examples\n",
    "#big_wine_df[big_wine_df['title'] == 'Gloria Ferrer NV Sonoma Brut Sparkling (Sonoma County)']\n",
    "#big_wine_df[big_wine_df['title'] == 'Korbel NV Brut Sparkling (California)']"
   ]
  },
  {
   "cell_type": "code",
   "execution_count": 24,
   "metadata": {},
   "outputs": [
    {
     "data": {
      "text/html": [
       "<div>\n",
       "<style scoped>\n",
       "    .dataframe tbody tr th:only-of-type {\n",
       "        vertical-align: middle;\n",
       "    }\n",
       "\n",
       "    .dataframe tbody tr th {\n",
       "        vertical-align: top;\n",
       "    }\n",
       "\n",
       "    .dataframe thead th {\n",
       "        text-align: right;\n",
       "    }\n",
       "</style>\n",
       "<table border=\"1\" class=\"dataframe\">\n",
       "  <thead>\n",
       "    <tr style=\"text-align: right;\">\n",
       "      <th></th>\n",
       "      <th>wine_name</th>\n",
       "      <th>duplicate_count</th>\n",
       "      <th>prices</th>\n",
       "      <th>points</th>\n",
       "    </tr>\n",
       "  </thead>\n",
       "  <tbody>\n",
       "    <tr>\n",
       "      <th>0</th>\n",
       "      <td>Gloria Ferrer NV Sonoma Brut Sparkling (Sonoma...</td>\n",
       "      <td>10</td>\n",
       "      <td>None</td>\n",
       "      <td>None</td>\n",
       "    </tr>\n",
       "    <tr>\n",
       "      <th>1</th>\n",
       "      <td>Korbel NV Brut Sparkling (California)</td>\n",
       "      <td>8</td>\n",
       "      <td>None</td>\n",
       "      <td>None</td>\n",
       "    </tr>\n",
       "    <tr>\n",
       "      <th>2</th>\n",
       "      <td>Segura Viudas NV Extra Dry Sparkling (Cava)</td>\n",
       "      <td>7</td>\n",
       "      <td>None</td>\n",
       "      <td>None</td>\n",
       "    </tr>\n",
       "    <tr>\n",
       "      <th>3</th>\n",
       "      <td>Ruinart NV Brut Rosé  (Champagne)</td>\n",
       "      <td>6</td>\n",
       "      <td>None</td>\n",
       "      <td>None</td>\n",
       "    </tr>\n",
       "    <tr>\n",
       "      <th>4</th>\n",
       "      <td>Segura Viudas NV Aria Estate Extra Dry Sparkli...</td>\n",
       "      <td>6</td>\n",
       "      <td>None</td>\n",
       "      <td>None</td>\n",
       "    </tr>\n",
       "  </tbody>\n",
       "</table>\n",
       "</div>"
      ],
      "text/plain": [
       "                                           wine_name  duplicate_count prices  \\\n",
       "0  Gloria Ferrer NV Sonoma Brut Sparkling (Sonoma...               10   None   \n",
       "1              Korbel NV Brut Sparkling (California)                8   None   \n",
       "2        Segura Viudas NV Extra Dry Sparkling (Cava)                7   None   \n",
       "3                  Ruinart NV Brut Rosé  (Champagne)                6   None   \n",
       "4  Segura Viudas NV Aria Estate Extra Dry Sparkli...                6   None   \n",
       "\n",
       "  points  \n",
       "0   None  \n",
       "1   None  \n",
       "2   None  \n",
       "3   None  \n",
       "4   None  "
      ]
     },
     "execution_count": 24,
     "metadata": {},
     "output_type": "execute_result"
    }
   ],
   "source": [
    "#Create a dataframe that holds a list of the duplicated wines\n",
    "duplicated_wine_counts = big_wine_clean[big_wine_clean.duplicated('title')]['title'].value_counts()\n",
    "duplicated_wines_df = duplicated_wine_counts.reset_index()\n",
    "duplicated_wines_df.columns = ['wine_name', 'duplicate_count']\n",
    "duplicated_wines_df['prices'] = None\n",
    "duplicated_wines_df['points'] = None\n",
    "duplicated_wines_df.head()"
   ]
  },
  {
   "cell_type": "code",
   "execution_count": 25,
   "metadata": {},
   "outputs": [
    {
     "data": {
      "text/html": [
       "<div>\n",
       "<style scoped>\n",
       "    .dataframe tbody tr th:only-of-type {\n",
       "        vertical-align: middle;\n",
       "    }\n",
       "\n",
       "    .dataframe tbody tr th {\n",
       "        vertical-align: top;\n",
       "    }\n",
       "\n",
       "    .dataframe thead th {\n",
       "        text-align: right;\n",
       "    }\n",
       "</style>\n",
       "<table border=\"1\" class=\"dataframe\">\n",
       "  <thead>\n",
       "    <tr style=\"text-align: right;\">\n",
       "      <th></th>\n",
       "      <th>wine_name</th>\n",
       "      <th>duplicate_count</th>\n",
       "      <th>prices</th>\n",
       "      <th>points</th>\n",
       "    </tr>\n",
       "  </thead>\n",
       "  <tbody>\n",
       "    <tr>\n",
       "      <th>0</th>\n",
       "      <td>Gloria Ferrer NV Sonoma Brut Sparkling (Sonoma...</td>\n",
       "      <td>10</td>\n",
       "      <td>21.454545</td>\n",
       "      <td>89.0</td>\n",
       "    </tr>\n",
       "    <tr>\n",
       "      <th>1</th>\n",
       "      <td>Korbel NV Brut Sparkling (California)</td>\n",
       "      <td>8</td>\n",
       "      <td>13.666667</td>\n",
       "      <td>86.888889</td>\n",
       "    </tr>\n",
       "    <tr>\n",
       "      <th>2</th>\n",
       "      <td>Segura Viudas NV Extra Dry Sparkling (Cava)</td>\n",
       "      <td>7</td>\n",
       "      <td>10.0</td>\n",
       "      <td>85.625</td>\n",
       "    </tr>\n",
       "    <tr>\n",
       "      <th>3</th>\n",
       "      <td>Ruinart NV Brut Rosé  (Champagne)</td>\n",
       "      <td>6</td>\n",
       "      <td>80.714286</td>\n",
       "      <td>89.714286</td>\n",
       "    </tr>\n",
       "    <tr>\n",
       "      <th>4</th>\n",
       "      <td>Segura Viudas NV Aria Estate Extra Dry Sparkli...</td>\n",
       "      <td>6</td>\n",
       "      <td>13.428571</td>\n",
       "      <td>84.142857</td>\n",
       "    </tr>\n",
       "  </tbody>\n",
       "</table>\n",
       "</div>"
      ],
      "text/plain": [
       "                                           wine_name  duplicate_count  \\\n",
       "0  Gloria Ferrer NV Sonoma Brut Sparkling (Sonoma...               10   \n",
       "1              Korbel NV Brut Sparkling (California)                8   \n",
       "2        Segura Viudas NV Extra Dry Sparkling (Cava)                7   \n",
       "3                  Ruinart NV Brut Rosé  (Champagne)                6   \n",
       "4  Segura Viudas NV Aria Estate Extra Dry Sparkli...                6   \n",
       "\n",
       "      prices     points  \n",
       "0  21.454545       89.0  \n",
       "1  13.666667  86.888889  \n",
       "2       10.0     85.625  \n",
       "3  80.714286  89.714286  \n",
       "4  13.428571  84.142857  "
      ]
     },
     "execution_count": 25,
     "metadata": {},
     "output_type": "execute_result"
    }
   ],
   "source": [
    "j=0\n",
    "for duplicate in duplicated_wines_df['wine_name']:\n",
    "    prices = big_wine_clean.loc[big_wine_clean['title'] == duplicate, 'price'].values[0:11]\n",
    "    duplicated_wines_df.loc[j,'prices'] = prices.mean()\n",
    "    j=j+1\n",
    "    \n",
    "i=0\n",
    "for duplicate in duplicated_wines_df['wine_name']:\n",
    "    points = big_wine_clean.loc[big_wine_clean['title'] == duplicate, 'points'].values[0:11]\n",
    "    duplicated_wines_df.loc[i,'points'] = points.mean()\n",
    "    i=i+1\n",
    "       \n",
    "duplicated_wines_df.head()"
   ]
  },
  {
   "cell_type": "code",
   "execution_count": 26,
   "metadata": {
    "id": "ionB2sRaMUmY"
   },
   "outputs": [],
   "source": [
    "for duplicate in duplicated_wines_df['wine_name']:\n",
    "    \n",
    "    #Rows to replace/drop, replace first instance drop rest\n",
    "    row_to_replace = big_wine_clean.loc[big_wine_clean['title'] == duplicate].index[0]\n",
    "    rows_to_delete = big_wine_clean.loc[big_wine_clean['title'] == duplicate].index[1:]\n",
    "    \n",
    "    #Replace 1st instance with price/points average, drop rest\n",
    "    big_wine_clean.at[row_to_replace, 'price'] = duplicated_wines_df['prices'][0].round(1)\n",
    "    big_wine_clean.at[row_to_replace, 'points'] = duplicated_wines_df['points'][0].round(1)\n",
    "    big_wine_clean.drop(rows_to_delete, inplace=True)\n"
   ]
  },
  {
   "cell_type": "code",
   "execution_count": 27,
   "metadata": {},
   "outputs": [
    {
     "data": {
      "text/html": [
       "<div>\n",
       "<style scoped>\n",
       "    .dataframe tbody tr th:only-of-type {\n",
       "        vertical-align: middle;\n",
       "    }\n",
       "\n",
       "    .dataframe tbody tr th {\n",
       "        vertical-align: top;\n",
       "    }\n",
       "\n",
       "    .dataframe thead th {\n",
       "        text-align: right;\n",
       "    }\n",
       "</style>\n",
       "<table border=\"1\" class=\"dataframe\">\n",
       "  <thead>\n",
       "    <tr style=\"text-align: right;\">\n",
       "      <th></th>\n",
       "      <th>id</th>\n",
       "      <th>country</th>\n",
       "      <th>description</th>\n",
       "      <th>points</th>\n",
       "      <th>price</th>\n",
       "      <th>province</th>\n",
       "      <th>region_1</th>\n",
       "      <th>title</th>\n",
       "      <th>variety</th>\n",
       "      <th>winery</th>\n",
       "    </tr>\n",
       "  </thead>\n",
       "  <tbody>\n",
       "  </tbody>\n",
       "</table>\n",
       "</div>"
      ],
      "text/plain": [
       "Empty DataFrame\n",
       "Columns: [id, country, description, points, price, province, region_1, title, variety, winery]\n",
       "Index: []"
      ]
     },
     "execution_count": 27,
     "metadata": {},
     "output_type": "execute_result"
    }
   ],
   "source": [
    "big_wine_clean[big_wine_clean['title'].duplicated()]"
   ]
  },
  {
   "cell_type": "code",
   "execution_count": 28,
   "metadata": {},
   "outputs": [
    {
     "data": {
      "text/plain": [
       "(110582, 10)"
      ]
     },
     "execution_count": 28,
     "metadata": {},
     "output_type": "execute_result"
    }
   ],
   "source": [
    "#validate\n",
    "assert big_wine_clean[big_wine_clean['title'].duplicated()].sum().sum() == 0\n",
    "big_wine_clean.shape"
   ]
  },
  {
   "cell_type": "markdown",
   "metadata": {
    "id": "bIUrrfSNyOPR"
   },
   "source": [
    "\n",
    "### Tidiness Issue 1: Multiple variables in location column of red_wine_api_df\n",
    "\n",
    "There are two different values in the location column of the dataframe- country and region. I will split it up into two seperate columns and remove the original. "
   ]
  },
  {
   "cell_type": "code",
   "execution_count": 29,
   "metadata": {
    "id": "fib0zAm333bn"
   },
   "outputs": [
    {
     "data": {
      "text/html": [
       "<div>\n",
       "<style scoped>\n",
       "    .dataframe tbody tr th:only-of-type {\n",
       "        vertical-align: middle;\n",
       "    }\n",
       "\n",
       "    .dataframe tbody tr th {\n",
       "        vertical-align: top;\n",
       "    }\n",
       "\n",
       "    .dataframe thead th {\n",
       "        text-align: right;\n",
       "    }\n",
       "</style>\n",
       "<table border=\"1\" class=\"dataframe\">\n",
       "  <thead>\n",
       "    <tr style=\"text-align: right;\">\n",
       "      <th></th>\n",
       "      <th>winery</th>\n",
       "      <th>wine</th>\n",
       "      <th>rating</th>\n",
       "      <th>location</th>\n",
       "      <th>image</th>\n",
       "      <th>id</th>\n",
       "    </tr>\n",
       "  </thead>\n",
       "  <tbody>\n",
       "    <tr>\n",
       "      <th>0</th>\n",
       "      <td>Maselva</td>\n",
       "      <td>Emporda 2012</td>\n",
       "      <td>{'average': '4.9', 'reviews': '88 ratings'}</td>\n",
       "      <td>Spain,Empordà</td>\n",
       "      <td>https://images.vivino.com/thumbs/ApnIiXjcT5Kc3...</td>\n",
       "      <td>1</td>\n",
       "    </tr>\n",
       "  </tbody>\n",
       "</table>\n",
       "</div>"
      ],
      "text/plain": [
       "    winery          wine                                       rating  \\\n",
       "0  Maselva  Emporda 2012  {'average': '4.9', 'reviews': '88 ratings'}   \n",
       "\n",
       "        location                                              image  id  \n",
       "0  Spain,Empordà  https://images.vivino.com/thumbs/ApnIiXjcT5Kc3...   1  "
      ]
     },
     "execution_count": 29,
     "metadata": {},
     "output_type": "execute_result"
    }
   ],
   "source": [
    "#First, I replaced the \\n·\\n so the values were seperated by a comma instead\n",
    "#Not necessary, but I find it easier to visualize two values\n",
    "red_wine_api_df['location'] = red_wine_api_df['location'].astype(str).str.replace('\\n·\\n', ',')\n",
    "red_wine_api_df.head(1)\n"
   ]
  },
  {
   "cell_type": "code",
   "execution_count": 30,
   "metadata": {},
   "outputs": [
    {
     "data": {
      "text/html": [
       "<div>\n",
       "<style scoped>\n",
       "    .dataframe tbody tr th:only-of-type {\n",
       "        vertical-align: middle;\n",
       "    }\n",
       "\n",
       "    .dataframe tbody tr th {\n",
       "        vertical-align: top;\n",
       "    }\n",
       "\n",
       "    .dataframe thead th {\n",
       "        text-align: right;\n",
       "    }\n",
       "</style>\n",
       "<table border=\"1\" class=\"dataframe\">\n",
       "  <thead>\n",
       "    <tr style=\"text-align: right;\">\n",
       "      <th></th>\n",
       "      <th>winery</th>\n",
       "      <th>wine</th>\n",
       "      <th>rating</th>\n",
       "      <th>location</th>\n",
       "      <th>image</th>\n",
       "      <th>id</th>\n",
       "      <th>country</th>\n",
       "      <th>region</th>\n",
       "    </tr>\n",
       "  </thead>\n",
       "  <tbody>\n",
       "    <tr>\n",
       "      <th>0</th>\n",
       "      <td>Maselva</td>\n",
       "      <td>Emporda 2012</td>\n",
       "      <td>{'average': '4.9', 'reviews': '88 ratings'}</td>\n",
       "      <td>Spain,Empordà</td>\n",
       "      <td>https://images.vivino.com/thumbs/ApnIiXjcT5Kc3...</td>\n",
       "      <td>1</td>\n",
       "      <td>Spain</td>\n",
       "      <td>Empordà</td>\n",
       "    </tr>\n",
       "    <tr>\n",
       "      <th>1</th>\n",
       "      <td>Ernesto Ruffo</td>\n",
       "      <td>Amarone della Valpolicella Riserva N.V.</td>\n",
       "      <td>{'average': '4.9', 'reviews': '75 ratings'}</td>\n",
       "      <td>Italy,Amarone della Valpolicella</td>\n",
       "      <td>https://images.vivino.com/thumbs/nC9V6L2mQQSq0...</td>\n",
       "      <td>2</td>\n",
       "      <td>Italy</td>\n",
       "      <td>Amarone della Valpolicella</td>\n",
       "    </tr>\n",
       "  </tbody>\n",
       "</table>\n",
       "</div>"
      ],
      "text/plain": [
       "          winery                                     wine  \\\n",
       "0        Maselva                             Emporda 2012   \n",
       "1  Ernesto Ruffo  Amarone della Valpolicella Riserva N.V.   \n",
       "\n",
       "                                        rating  \\\n",
       "0  {'average': '4.9', 'reviews': '88 ratings'}   \n",
       "1  {'average': '4.9', 'reviews': '75 ratings'}   \n",
       "\n",
       "                           location  \\\n",
       "0                     Spain,Empordà   \n",
       "1  Italy,Amarone della Valpolicella   \n",
       "\n",
       "                                               image  id country  \\\n",
       "0  https://images.vivino.com/thumbs/ApnIiXjcT5Kc3...   1   Spain   \n",
       "1  https://images.vivino.com/thumbs/nC9V6L2mQQSq0...   2   Italy   \n",
       "\n",
       "                       region  \n",
       "0                     Empordà  \n",
       "1  Amarone della Valpolicella  "
      ]
     },
     "execution_count": 30,
     "metadata": {},
     "output_type": "execute_result"
    }
   ],
   "source": [
    "#Split the values in the location column by the comma and create two different columns \n",
    "red_wine_api_df[['country', 'region']] = red_wine_api_df['location'].astype(str).str.split(',', expand=True)\n",
    "red_wine_api_df.head(2)"
   ]
  },
  {
   "cell_type": "code",
   "execution_count": 31,
   "metadata": {
    "id": "yhrnUGY_Nk8B"
   },
   "outputs": [],
   "source": [
    "#Drop rows that don't have locations. There are only a few.\n",
    "red_wine_api_loc_update = red_wine_api_df.dropna(subset = 'region')"
   ]
  },
  {
   "cell_type": "code",
   "execution_count": 32,
   "metadata": {},
   "outputs": [],
   "source": [
    "#Make sure there are no nulls\n",
    "#Drop old location column\n",
    "red_wine_api_loc_update = red_wine_api_loc_update.drop(['location'], axis=1)"
   ]
  },
  {
   "cell_type": "code",
   "execution_count": 33,
   "metadata": {},
   "outputs": [
    {
     "name": "stdout",
     "output_type": "stream",
     "text": [
      "0\n",
      "<class 'pandas.core.frame.DataFrame'>\n",
      "Int64Index: 712 entries, 0 to 717\n",
      "Data columns (total 7 columns):\n",
      " #   Column   Non-Null Count  Dtype \n",
      "---  ------   --------------  ----- \n",
      " 0   winery   712 non-null    object\n",
      " 1   wine     712 non-null    object\n",
      " 2   rating   712 non-null    object\n",
      " 3   image    712 non-null    object\n",
      " 4   id       712 non-null    int64 \n",
      " 5   country  712 non-null    object\n",
      " 6   region   712 non-null    object\n",
      "dtypes: int64(1), object(6)\n",
      "memory usage: 44.5+ KB\n"
     ]
    }
   ],
   "source": [
    "#Validate by seeing no nulls and info() looks good\n",
    "print(red_wine_api_loc_update['region'].isnull().sum())\n",
    "red_wine_api_loc_update.info()"
   ]
  },
  {
   "cell_type": "markdown",
   "metadata": {},
   "source": [
    "The location column had two variables in it- country and region. I split these up into two different columns and got rid of null values."
   ]
  },
  {
   "cell_type": "markdown",
   "metadata": {},
   "source": [
    "### Tidiness Issue 2: Multiple variables in rating column of red_wine_api_df\n",
    "\n",
    "A similar problem as above is shown here. The rating column has two different values in it- average rating and number of ratings. I will split these up into two different columns and then get rid of the original rating column. This situation is different because the values are not readily available just by splitting the strings. I have to extract the numbers from each variable so I don't have text in there. I will extract the numbers from each variable and assign these to new columns. "
   ]
  },
  {
   "cell_type": "code",
   "execution_count": 34,
   "metadata": {},
   "outputs": [
    {
     "data": {
      "text/html": [
       "<div>\n",
       "<style scoped>\n",
       "    .dataframe tbody tr th:only-of-type {\n",
       "        vertical-align: middle;\n",
       "    }\n",
       "\n",
       "    .dataframe tbody tr th {\n",
       "        vertical-align: top;\n",
       "    }\n",
       "\n",
       "    .dataframe thead th {\n",
       "        text-align: right;\n",
       "    }\n",
       "</style>\n",
       "<table border=\"1\" class=\"dataframe\">\n",
       "  <thead>\n",
       "    <tr style=\"text-align: right;\">\n",
       "      <th></th>\n",
       "      <th>winery</th>\n",
       "      <th>wine</th>\n",
       "      <th>rating</th>\n",
       "      <th>image</th>\n",
       "      <th>id</th>\n",
       "      <th>country</th>\n",
       "      <th>region</th>\n",
       "      <th>avg_rating</th>\n",
       "      <th>num_reviews</th>\n",
       "    </tr>\n",
       "  </thead>\n",
       "  <tbody>\n",
       "    <tr>\n",
       "      <th>0</th>\n",
       "      <td>Maselva</td>\n",
       "      <td>Emporda 2012</td>\n",
       "      <td>{'average': '4.9', 'reviews': '88 ratings'}</td>\n",
       "      <td>https://images.vivino.com/thumbs/ApnIiXjcT5Kc3...</td>\n",
       "      <td>1</td>\n",
       "      <td>Spain</td>\n",
       "      <td>Empordà</td>\n",
       "      <td>{'average': '4.9'</td>\n",
       "      <td>'reviews': '88 ratings'}</td>\n",
       "    </tr>\n",
       "    <tr>\n",
       "      <th>1</th>\n",
       "      <td>Ernesto Ruffo</td>\n",
       "      <td>Amarone della Valpolicella Riserva N.V.</td>\n",
       "      <td>{'average': '4.9', 'reviews': '75 ratings'}</td>\n",
       "      <td>https://images.vivino.com/thumbs/nC9V6L2mQQSq0...</td>\n",
       "      <td>2</td>\n",
       "      <td>Italy</td>\n",
       "      <td>Amarone della Valpolicella</td>\n",
       "      <td>{'average': '4.9'</td>\n",
       "      <td>'reviews': '75 ratings'}</td>\n",
       "    </tr>\n",
       "  </tbody>\n",
       "</table>\n",
       "</div>"
      ],
      "text/plain": [
       "          winery                                     wine  \\\n",
       "0        Maselva                             Emporda 2012   \n",
       "1  Ernesto Ruffo  Amarone della Valpolicella Riserva N.V.   \n",
       "\n",
       "                                        rating  \\\n",
       "0  {'average': '4.9', 'reviews': '88 ratings'}   \n",
       "1  {'average': '4.9', 'reviews': '75 ratings'}   \n",
       "\n",
       "                                               image  id country  \\\n",
       "0  https://images.vivino.com/thumbs/ApnIiXjcT5Kc3...   1   Spain   \n",
       "1  https://images.vivino.com/thumbs/nC9V6L2mQQSq0...   2   Italy   \n",
       "\n",
       "                       region         avg_rating                num_reviews  \n",
       "0                     Empordà  {'average': '4.9'   'reviews': '88 ratings'}  \n",
       "1  Amarone della Valpolicella  {'average': '4.9'   'reviews': '75 ratings'}  "
      ]
     },
     "execution_count": 34,
     "metadata": {},
     "output_type": "execute_result"
    }
   ],
   "source": [
    "#split the rating column into 2 different columns. Still need to extract the numbers\n",
    "red_wine_api_loc_update.head()\n",
    "red_wine_api_loc_update[['avg_rating', 'num_reviews']] = red_wine_api_loc_update['rating'].astype(str).str.split(',', expand=True)\n",
    "red_wine_api_loc_update.head(2)"
   ]
  },
  {
   "cell_type": "code",
   "execution_count": 35,
   "metadata": {},
   "outputs": [],
   "source": [
    "#Extract the numbers from the avg_rating and num_revies columns\n",
    "import re\n",
    "\n",
    "def extract_num(string):\n",
    "    \n",
    "    '''This function takes in a string and finds all the places\n",
    "    where there is a sequence of digits or a sequence of digits\n",
    "    followed by a decimal point and more digits. The output is the \n",
    "    numbers found in the string'''\n",
    "    \n",
    "    numbers = re.findall(r'\\d+\\.\\d+|\\d+', string)\n",
    "    return ' '.join(numbers)\n",
    "\n",
    "#apply function to each column and create new columns with just the numbers as type float\n",
    "red_wine_api_loc_update['average rating'] = red_wine_api_loc_update['avg_rating'].apply(extract_num).astype(float)\n",
    "red_wine_api_loc_update['number of ratings'] = red_wine_api_loc_update['num_reviews'].apply(extract_num).astype(float)"
   ]
  },
  {
   "cell_type": "code",
   "execution_count": 36,
   "metadata": {},
   "outputs": [],
   "source": [
    "#Drop old columns\n",
    "red_wine_api_clean = red_wine_api_loc_update.drop(['rating', 'avg_rating', 'num_reviews'], axis=1)"
   ]
  },
  {
   "cell_type": "code",
   "execution_count": 37,
   "metadata": {},
   "outputs": [
    {
     "name": "stdout",
     "output_type": "stream",
     "text": [
      "0\n"
     ]
    },
    {
     "data": {
      "text/html": [
       "<div>\n",
       "<style scoped>\n",
       "    .dataframe tbody tr th:only-of-type {\n",
       "        vertical-align: middle;\n",
       "    }\n",
       "\n",
       "    .dataframe tbody tr th {\n",
       "        vertical-align: top;\n",
       "    }\n",
       "\n",
       "    .dataframe thead th {\n",
       "        text-align: right;\n",
       "    }\n",
       "</style>\n",
       "<table border=\"1\" class=\"dataframe\">\n",
       "  <thead>\n",
       "    <tr style=\"text-align: right;\">\n",
       "      <th></th>\n",
       "      <th>winery</th>\n",
       "      <th>wine</th>\n",
       "      <th>image</th>\n",
       "      <th>id</th>\n",
       "      <th>country</th>\n",
       "      <th>region</th>\n",
       "      <th>average rating</th>\n",
       "      <th>number of ratings</th>\n",
       "    </tr>\n",
       "  </thead>\n",
       "  <tbody>\n",
       "    <tr>\n",
       "      <th>68</th>\n",
       "      <td>Veiga</td>\n",
       "      <td>Madeira Sercial Solera Franca N.V.</td>\n",
       "      <td>https://images.vivino.com/thumbs/hJIXwnDnRWmwx...</td>\n",
       "      <td>69</td>\n",
       "      <td>Portugal</td>\n",
       "      <td>Madeira</td>\n",
       "      <td>4.9</td>\n",
       "      <td>26.0</td>\n",
       "    </tr>\n",
       "  </tbody>\n",
       "</table>\n",
       "</div>"
      ],
      "text/plain": [
       "   winery                                wine  \\\n",
       "68  Veiga  Madeira Sercial Solera Franca N.V.   \n",
       "\n",
       "                                                image  id   country   region  \\\n",
       "68  https://images.vivino.com/thumbs/hJIXwnDnRWmwx...  69  Portugal  Madeira   \n",
       "\n",
       "    average rating  number of ratings  \n",
       "68             4.9               26.0  "
      ]
     },
     "execution_count": 37,
     "metadata": {},
     "output_type": "execute_result"
    }
   ],
   "source": [
    "#Make sure the data frame looks good now and there are no nulls\n",
    "print(red_wine_api_clean.isnull().sum().sum())\n",
    "red_wine_api_clean.sample()"
   ]
  },
  {
   "cell_type": "markdown",
   "metadata": {},
   "source": [
    "Columns with multiple values in each row have been split up so there is now one variable in each column. The numbers have been extracted and the old columns have been deleted. The new dataframe looks clean and there are no null values"
   ]
  },
  {
   "cell_type": "markdown",
   "metadata": {},
   "source": [
    "### **Remove unnecessary variables and combine datasets**\n",
    "\n",
    "I want to learn two things, how price affects rating and where in the world has the highest ratings. I will combine different datasets to find the answers to these questions. \n",
    "\n",
    "The red_wine_df and white_wine_df were already cleaned when I got them, so they were not mentioned in the past few sections. \n",
    "\n",
    "All dataframes have wine name, winery, country, region, and rating. This is enough to answer the question about where in the world has highest wine ratings. I will remove all other columns from the dataframes and combine them to answer this question. \n",
    "\n",
    "The red_wine_api dataframe does not have price, so it will not help me answer my other question of how price affects rating. The red_wine_df, white_wine_df, and big_wine_df all have wine name, price, and rating. They also have winery, country, and region which I will keep in case I want to know more about pricing in different areas of the world. I will remove all other columns and combine these dataframes to help answer my question of how price affects rating."
   ]
  },
  {
   "cell_type": "code",
   "execution_count": 38,
   "metadata": {},
   "outputs": [
    {
     "name": "stdout",
     "output_type": "stream",
     "text": [
      "Index(['winery', 'wine', 'image', 'id', 'country', 'region', 'average rating',\n",
      "       'number of ratings'],\n",
      "      dtype='object')\n",
      "Index(['id', 'country', 'description', 'points', 'price', 'province',\n",
      "       'region_1', 'title', 'variety', 'winery'],\n",
      "      dtype='object')\n",
      "Index(['Name', 'Country', 'Region', 'Winery', 'Rating', 'NumberOfRatings',\n",
      "       'Price', 'Year'],\n",
      "      dtype='object')\n"
     ]
    }
   ],
   "source": [
    "#Get column names\n",
    "print(red_wine_api_clean.columns)\n",
    "print(big_wine_clean.columns)\n",
    "print(red_wine_df.columns)"
   ]
  },
  {
   "cell_type": "markdown",
   "metadata": {},
   "source": [
    "### Where in the world has the highest average ratings?\n",
    "\n",
    "I will created the new dataframes to answer this question below"
   ]
  },
  {
   "cell_type": "code",
   "execution_count": 39,
   "metadata": {},
   "outputs": [],
   "source": [
    "#Create new databases with dropped columns for geography related quetion\n",
    "red_wine_api_geo = red_wine_api_clean.drop(['image', 'id', 'number of ratings'], axis=1)\n",
    "big_wine_geo = big_wine_clean.drop(['id', 'description', 'price', 'variety', 'region_1'], axis=1)\n",
    "red_wine_geo = red_wine_df.drop(['NumberOfRatings', 'Price', 'Year'], axis=1)"
   ]
  },
  {
   "cell_type": "code",
   "execution_count": 40,
   "metadata": {},
   "outputs": [
    {
     "name": "stdout",
     "output_type": "stream",
     "text": [
      "Index(['winery', 'wine', 'country', 'region', 'average rating'], dtype='object')\n",
      "Index(['country', 'points', 'province', 'title', 'winery'], dtype='object')\n",
      "Index(['Name', 'Country', 'Region', 'Winery', 'Rating'], dtype='object')\n"
     ]
    }
   ],
   "source": [
    "# Look at the column names for each dataframe\n",
    "print(red_wine_api_geo.columns)\n",
    "print(big_wine_geo.columns)\n",
    "print(red_wine_geo.columns)"
   ]
  },
  {
   "cell_type": "code",
   "execution_count": 41,
   "metadata": {},
   "outputs": [],
   "source": [
    "# ratings are on different scales, standardize this to 100 point scale\n",
    "\n",
    "def standardize(x):\n",
    "    \n",
    "    '''Take in a value x, divide by 5 and multiply by 100. This \n",
    "    will take rating out of 5 and change it to a 100 point scale'''\n",
    "    \n",
    "    return (x/5)*100\n",
    "\n",
    "red_wine_api_geo['average rating'] = red_wine_api_geo['average rating'].apply(standardize)\n",
    "red_wine_geo['Rating'] = red_wine_geo['Rating'].apply(standardize)\n"
   ]
  },
  {
   "cell_type": "code",
   "execution_count": 42,
   "metadata": {},
   "outputs": [],
   "source": [
    "#Change names so they are the same in each dataframe\n",
    "red_wine_api_geo = red_wine_api_geo.rename(columns = {'average rating':'rating'})\n",
    "big_wine_geo = big_wine_geo.rename(columns = {'points':'rating', 'province':'region', 'title':'wine'})\n",
    "red_wine_geo = red_wine_geo.rename(columns = {'Name':'wine', 'Country':'country', 'Region':'region', 'Winery': 'winery', 'Rating':'rating'})"
   ]
  },
  {
   "cell_type": "code",
   "execution_count": 43,
   "metadata": {},
   "outputs": [],
   "source": [
    "#Concat all 3 dataframes into one\n",
    "wine_geo_df = pd.concat([red_wine_api_geo, big_wine_geo, red_wine_geo])\n",
    "wine_geo_df.head()\n",
    "\n",
    "#discovered later that there is both US and United States, so change all United States to US\n",
    "\n",
    "wine_geo_df['country'] = wine_geo_df['country'].replace('United States', 'US')"
   ]
  },
  {
   "cell_type": "markdown",
   "metadata": {},
   "source": [
    "### How does the price of wine affect the rating?\n",
    "\n",
    "I will created the new dataframes to answer this question below"
   ]
  },
  {
   "cell_type": "code",
   "execution_count": 44,
   "metadata": {},
   "outputs": [],
   "source": [
    "#Create new dataframes to answer how price affects rating\n",
    "\n",
    "big_wine_price = big_wine_clean.drop(['id', 'description', 'variety', 'region_1'], axis=1)\n",
    "red_wine_price = red_wine_df.drop(['NumberOfRatings', 'Year'], axis=1)"
   ]
  },
  {
   "cell_type": "code",
   "execution_count": 45,
   "metadata": {},
   "outputs": [],
   "source": [
    "#Standardize rating system to go from a 5 to a 100 point scale\n",
    "red_wine_price['Rating'] = red_wine_price['Rating'].apply(standardize)"
   ]
  },
  {
   "cell_type": "code",
   "execution_count": 46,
   "metadata": {},
   "outputs": [],
   "source": [
    "#Rename columns so they match\n",
    "big_wine_price = big_wine_price.rename(columns = {'points':'rating', 'province':'region', 'title':'wine',})\n",
    "red_wine_price = red_wine_price.rename(columns = {'Name':'wine', 'Country':'country', 'Region':'region', 'Winery': 'winery', 'Rating':'rating', 'Price':'price'})"
   ]
  },
  {
   "cell_type": "code",
   "execution_count": 47,
   "metadata": {},
   "outputs": [],
   "source": [
    "#Concat into one dataframe\n",
    "wine_price_df = pd.concat([big_wine_price, red_wine_price])"
   ]
  },
  {
   "cell_type": "markdown",
   "metadata": {
    "id": "F42urHuzttjF"
   },
   "source": [
    "## 4. Update your data store"
   ]
  },
  {
   "cell_type": "code",
   "execution_count": 48,
   "metadata": {},
   "outputs": [],
   "source": [
    "#Raw data\n",
    "red_wine_raw.to_csv('red_wine_raw.csv', index=False)\n",
    "big_wine_raw.to_csv('big_wine_raw.csv', index=False)\n",
    "red_wine_api_raw.to_csv('red_wine_api_raw.csv', index=False)\n",
    "\n",
    "#dataframe used to answer question about geography and rating\n",
    "wine_geo_df_clean = wine_geo_df\n",
    "wine_geo_df_clean.to_csv('wine_geo_df_clean.csv', index=False)\n",
    "\n",
    "#dataframe used to answer question about price and rating\n",
    "wine_price_df_clean =wine_price_df\n",
    "wine_price_df_clean.to_csv('wine_price_df_clean.csv', index=False)"
   ]
  },
  {
   "cell_type": "markdown",
   "metadata": {
    "id": "cGy_yddGtzhM"
   },
   "source": [
    "## 5. Answer the research question"
   ]
  },
  {
   "cell_type": "markdown",
   "metadata": {
    "id": "gjedE4s4ZkEd"
   },
   "source": [
    "#### Where in the world has the highest ratings of wine?"
   ]
  },
  {
   "cell_type": "code",
   "execution_count": 49,
   "metadata": {
    "id": "Lkw3rW9kZmOm"
   },
   "outputs": [
    {
     "data": {
      "text/plain": [
       "<AxesSubplot: xlabel='country'>"
      ]
     },
     "execution_count": 49,
     "metadata": {},
     "output_type": "execute_result"
    },
    {
     "data": {
      "image/png": "[encoded data removed]",
      "text/plain": [
       "<Figure size 640x480 with 1 Axes>"
      ]
     },
     "metadata": {},
     "output_type": "display_data"
    }
   ],
   "source": [
    "#Visual 1 - Bar plot of each countries average wine rating\n",
    "import matplotlib.pyplot as plt\n",
    "country_avg = wine_geo_df.groupby('country')['rating'].mean().sort_values(ascending=False)\n",
    "country_avg.plot(kind='bar')\n"
   ]
  },
  {
   "cell_type": "markdown",
   "metadata": {},
   "source": [
    "There are a lot of countries that don't have many ratings. I don't believe that a country with a small number of ratings gives a good average, so I will limit it to only countries that have at least 1000 ratings."
   ]
  },
  {
   "cell_type": "code",
   "execution_count": 50,
   "metadata": {},
   "outputs": [],
   "source": [
    "# Get a count of the number of wines that are rated for each country\n",
    "country_count = wine_geo_df[wine_geo_df.duplicated('country')]['country'].value_counts()\n",
    "\n",
    "# Filter the database to capture only countries with at least 1000 wine ratings\n",
    "wine_geo_filtered = wine_geo_df[wine_geo_df['country'].isin(country_count.index[0:12])]"
   ]
  },
  {
   "cell_type": "code",
   "execution_count": 51,
   "metadata": {},
   "outputs": [
    {
     "data": {
      "image/png": "[encoded data removed]",
      "text/plain": [
       "<Figure size 640x480 with 1 Axes>"
      ]
     },
     "metadata": {},
     "output_type": "display_data"
    }
   ],
   "source": [
    "# Get the average rating for each country and plot\n",
    "filtered_country_avg = wine_geo_filtered.groupby('country')['rating'].mean().sort_values(ascending=False)\n",
    "filtered_country_avg.plot(kind='bar');"
   ]
  },
  {
   "cell_type": "markdown",
   "metadata": {},
   "source": [
    "This data suggests that Austria is the country with the highest average wine rating, with US coming in second and Germany in third. I would be interested to see if I got the same results if I had more data. The bar chart helpes me clearly see which countryies have the highest average ratings. It also helps to see that there is not too much of a difference between the average ratings, so more data could possibly tip the scales. "
   ]
  },
  {
   "cell_type": "markdown",
   "metadata": {},
   "source": [
    "#### How does the price of wine affect ratings?"
   ]
  },
  {
   "cell_type": "code",
   "execution_count": 52,
   "metadata": {
    "id": "6fdK_8ZGZm9R"
   },
   "outputs": [
    {
     "data": {
      "text/plain": [
       "<matplotlib.collections.PathCollection at 0x7fe04490ae60>"
      ]
     },
     "execution_count": 52,
     "metadata": {},
     "output_type": "execute_result"
    },
    {
     "data": {
      "image/png": "[encoded data removed]",
      "text/plain": [
       "<Figure size 640x480 with 1 Axes>"
      ]
     },
     "metadata": {},
     "output_type": "display_data"
    }
   ],
   "source": [
    "#Visual 2 - Scatter plot of price vs rating\n",
    "x = wine_price_df['price']\n",
    "y = wine_price_df['rating']\n",
    "\n",
    "plt.scatter(x, y)"
   ]
  },
  {
   "cell_type": "markdown",
   "metadata": {},
   "source": [
    "There are some big outliers here that are skewing the plot and are not representative of the overall data. I will filter this data to only have prices below $125, which is the 98th percentile of all the wines"
   ]
  },
  {
   "cell_type": "code",
   "execution_count": 53,
   "metadata": {},
   "outputs": [
    {
     "data": {
      "text/plain": [
       "125.0"
      ]
     },
     "execution_count": 53,
     "metadata": {},
     "output_type": "execute_result"
    }
   ],
   "source": [
    "np.percentile(wine_price_df['price'], 98)"
   ]
  },
  {
   "cell_type": "code",
   "execution_count": 54,
   "metadata": {},
   "outputs": [],
   "source": [
    "wine_price_filtered = wine_price_df[wine_price_df['price'] <= 125]"
   ]
  },
  {
   "cell_type": "code",
   "execution_count": 55,
   "metadata": {},
   "outputs": [
    {
     "data": {
      "text/plain": [
       "[<matplotlib.lines.Line2D at 0x7fe04499e110>]"
      ]
     },
     "execution_count": 55,
     "metadata": {},
     "output_type": "execute_result"
    },
    {
     "data": {
      "image/png": "[encoded data removed]",
      "text/plain": [
       "<Figure size 640x480 with 1 Axes>"
      ]
     },
     "metadata": {},
     "output_type": "display_data"
    }
   ],
   "source": [
    "x = wine_price_filtered['price']\n",
    "y = wine_price_filtered['rating']\n",
    "\n",
    "# Fit a polynomial curve of degree 3 (quadratic) to the data\n",
    "coefficients = np.polyfit(x, y, 3)\n",
    "polynomial = np.poly1d(coefficients)\n",
    "\n",
    "# Generate x values for the curve of best fit\n",
    "x_curve = np.linspace(min(x), max(x), 100)\n",
    "\n",
    "# Calculate corresponding y values for the curve of best fit\n",
    "y_curve = polynomial(x_curve)\n",
    "\n",
    "# Plot the original data points and the curve of best fit\n",
    "plt.scatter(x, y, label='Data')\n",
    "plt.plot(x_curve, y_curve, color='red')\n"
   ]
  },
  {
   "cell_type": "markdown",
   "metadata": {
    "id": "K5RgvMGUZoHn"
   },
   "source": [
    "After doing a 3 degree polynomial curve of the filtered data, I have gotten some answers to my questions. First, this data suggests that as price increases, ratings also tend to increase. It also suggests that at about 40 dollars is where you start to see diminishing returns on rating for the price. There is a noticable increase until that point, and then the curve levels off until about 100 dollars, even maybe dropping a little along the way. At about the 100 dollar mark is where we see the curve start to increase more dramatically again. This suggests that I can spend around 40 dollars and get similar quality wine as if I spent up to 100 dollars. Prices greater than about 100 dollars seem to be of higher quality. "
   ]
  },
  {
   "cell_type": "markdown",
   "metadata": {
    "id": "0ezWXXZVj-TP"
   },
   "source": [
    "### **5.2:** Reflection"
   ]
  },
  {
   "cell_type": "markdown",
   "metadata": {
    "id": "XB3RBDG5kFe1"
   },
   "source": [
    "If I were to continue this project, I would want to dig deeper into the data and see exactly which regions and wineries have the highest wine ratings. I would also look more into the prices and get more exact about the best price to buy wine at for the best quality. Additionally, I would want to gather more data since I had to filter out a lot of countries due to the fact they did not have enough wines rated.\n",
    "\n",
    "One issue that I can thing of is the nature of the ratings. Was it proffessional wine tasters or every day people rating the wine? It seems like the big_wine_df had professional wine tasters and the others were regular people since some had hundreds of ratings. "
   ]
  },
  {
   "cell_type": "code",
   "execution_count": null,
   "metadata": {},
   "outputs": [],
   "source": []
  }
 ],
 "metadata": {
  "colab": {
   "provenance": []
  },
  "kernelspec": {
   "display_name": "Python 3 (ipykernel)",
   "language": "python",
   "name": "python3"
  },
  "language_info": {
   "codemirror_mode": {
    "name": "ipython",
    "version": 3
   },
   "file_extension": ".py",
   "mimetype": "text/x-python",
   "name": "python",
   "nbconvert_exporter": "python",
   "pygments_lexer": "ipython3",
   "version": "3.11.5"
  }
 },
 "nbformat": 4,
 "nbformat_minor": 4
}
